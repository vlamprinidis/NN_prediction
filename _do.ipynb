{
 "cells": [
  {
   "cell_type": "code",
   "execution_count": 1,
   "metadata": {},
   "outputs": [],
   "source": [
    "import numpy as np"
   ]
  },
  {
   "cell_type": "code",
   "execution_count": 2,
   "metadata": {},
   "outputs": [],
   "source": [
    "def proc(arr, isdense = 0):  \n",
    "    epochs_col = 0\n",
    "    batch_col = 4 - isdense\n",
    "    nodes_col = 5 - isdense\n",
    "\n",
    "    return arr[~((arr[:,epochs_col]==5)&(arr[:,batch_col]==512)&(arr[:,nodes_col]==2))]\n",
    "    "
   ]
  },
  {
   "cell_type": "code",
   "execution_count": 3,
   "metadata": {},
   "outputs": [],
   "source": [
    "files=['avg2d.tflow', 'max2d.tflow', 'conv2d.tflow', 'drop2d.tflow',\n",
    "       'norm2d.tflow', 'relu2d.tflow', 'tanh2d.tflow',\n",
    "       'final_dense.tflow', 'dense.tflow']"
   ]
  },
  {
   "cell_type": "code",
   "execution_count": 4,
   "metadata": {},
   "outputs": [],
   "source": [
    "for file in files:\n",
    "    for node in [1,2,3]:\n",
    "        path = 'stats/node_{}/{}'.format(node,file)\n",
    "        with open(path,'r') as myfile:\n",
    "            arr = np.genfromtxt(myfile, delimiter=',')\n",
    "            arr = proc(arr,1 if file in ['final_dense.tflow', 'dense.tflow'] else 0)\n",
    "#         with open(path,'w') as myfile:\n",
    "#             np.savetxt(myfile, arr, delimiter=\",\", fmt=\"%s\")"
   ]
  },
  {
   "cell_type": "code",
   "execution_count": 1,
   "metadata": {},
   "outputs": [],
   "source": [
    "ls=[1,2,3,4]"
   ]
  },
  {
   "cell_type": "code",
   "execution_count": 2,
   "metadata": {},
   "outputs": [
    {
     "data": {
      "text/plain": [
       "[1, 2, 3]"
      ]
     },
     "execution_count": 2,
     "metadata": {},
     "output_type": "execute_result"
    }
   ],
   "source": [
    "ls[:-1]"
   ]
  },
  {
   "cell_type": "code",
   "execution_count": null,
   "metadata": {},
   "outputs": [],
   "source": []
  }
 ],
 "metadata": {
  "kernelspec": {
   "display_name": "Python 3",
   "language": "python",
   "name": "python3"
  },
  "language_info": {
   "codemirror_mode": {
    "name": "ipython",
    "version": 3
   },
   "file_extension": ".py",
   "mimetype": "text/x-python",
   "name": "python",
   "nbconvert_exporter": "python",
   "pygments_lexer": "ipython3",
   "version": "3.6.9"
  }
 },
 "nbformat": 4,
 "nbformat_minor": 4
}
