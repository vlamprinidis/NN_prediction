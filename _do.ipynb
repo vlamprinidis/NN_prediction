{
 "cells": [
  {
   "cell_type": "code",
   "execution_count": null,
   "metadata": {},
   "outputs": [],
   "source": [
    "# import numpy as np\n",
    "\n",
    "# def proc(arr, isdense = 0):  \n",
    "#     epochs_col = 0\n",
    "#     batch_col = 4 - isdense\n",
    "#     nodes_col = 5 - isdense\n",
    "\n",
    "#     return arr[~((arr[:,nodes_col]==2)|((arr[:,nodes_col]==3)))]\n",
    "    \n",
    "\n",
    "# def proc_2(arr_):  \n",
    "#     arr = arr_.copy()\n",
    "#     numf_col = 2\n",
    "\n",
    "#     return arr[~(arr[:,numf_col]==128)]\n",
    "\n",
    "# fw = '.tflow'\n",
    "\n",
    "# files=['avg2d', 'max2d', 'conv2d', 'drop2d',\n",
    "#        'norm2d', 'relu2d', 'tanh2d',\n",
    "#        'final_dense', 'dense']\n",
    "\n",
    "# files += ['flatten2d']\n",
    "# files.remove('dense')\n",
    "\n",
    "# files\n",
    "\n",
    "# for file in files:\n",
    "#     for node in [1,2,3]:\n",
    "#         path = 'stats/node_{}/{}'.format(node,file+fw)\n",
    "#         with open(path,'r') as myfile:\n",
    "#             arr = np.genfromtxt(myfile, delimiter=',')\n",
    "#             arr = proc_2(arr)\n",
    "#         with open(path,'w') as myfile:\n",
    "#             np.savetxt(myfile, arr, delimiter=\",\", fmt=\"%s\")"
   ]
  },
  {
   "cell_type": "code",
   "execution_count": null,
   "metadata": {},
   "outputs": [],
   "source": [
    "import numpy as np"
   ]
  },
  {
   "cell_type": "code",
   "execution_count": null,
   "metadata": {},
   "outputs": [],
   "source": [
    "def nodify(nodes, arr_):  \n",
    "    assert nodes in [2,3]\n",
    "    \n",
    "    arr = arr_.copy()    \n",
    "    nodes_col = -2\n",
    "    arr[:,nodes_col] = nodes\n",
    "    arr[:,-1] = arr[:,-1]/nodes\n",
    "\n",
    "    return arr"
   ]
  },
  {
   "cell_type": "code",
   "execution_count": null,
   "metadata": {},
   "outputs": [],
   "source": [
    "files = ['AlexNet.tflow', 'LeNet_1.tflow','LeNet_5.tflow','VGG_11.tflow']"
   ]
  },
  {
   "cell_type": "code",
   "execution_count": null,
   "metadata": {},
   "outputs": [],
   "source": [
    "for file in files:\n",
    "    path = [None] + ['test/node_{}/{}'.format(node,file) for node in [1,2,3]]\n",
    "    arr = [None,None,None,None]\n",
    "    \n",
    "    with open(path[1],'r') as myfile:\n",
    "        arr[1] = np.genfromtxt(myfile, delimiter=',')\n",
    "        for i in [2,3]:\n",
    "            arr[i] = nodify(i,arr[1])\n",
    "    \n",
    "    for i in [2,3]:\n",
    "        with open(path[i],'w') as myfile:\n",
    "            np.savetxt(myfile, arr[i], delimiter=\",\", fmt=\"%s\")"
   ]
  },
  {
   "cell_type": "code",
   "execution_count": null,
   "metadata": {},
   "outputs": [],
   "source": []
  }
 ],
 "metadata": {
  "kernelspec": {
   "display_name": "Python 3",
   "language": "python",
   "name": "python3"
  },
  "language_info": {
   "codemirror_mode": {
    "name": "ipython",
    "version": 3
   },
   "file_extension": ".py",
   "mimetype": "text/x-python",
   "name": "python",
   "nbconvert_exporter": "python",
   "pygments_lexer": "ipython3",
   "version": "3.6.9"
  }
 },
 "nbformat": 4,
 "nbformat_minor": 4
}
