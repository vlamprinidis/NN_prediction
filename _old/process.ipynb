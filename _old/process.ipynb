{
 "cells": [
  {
   "cell_type": "code",
   "execution_count": null,
   "metadata": {},
   "outputs": [],
   "source": [
    "from profiling.funs import load, my_key, _save\n",
    "import pandas as pd\n",
    "\n",
    "pd.set_option('display.max_rows', None)\n",
    "pd.set_option('display.max_columns', None)\n",
    "pd.set_option('display.width', None)\n",
    "pd.set_option('display.max_colwidth', None)"
   ]
  },
  {
   "cell_type": "code",
   "execution_count": null,
   "metadata": {},
   "outputs": [],
   "source": [
    "def check(keywords):\n",
    "    def find(x):\n",
    "        return any(\n",
    "            [word in x for word in keywords]\n",
    "        )\n",
    "    return find"
   ]
  },
  {
   "cell_type": "code",
   "execution_count": null,
   "metadata": {},
   "outputs": [],
   "source": [
    "def check_just(keywords):\n",
    "    def find(x):\n",
    "        return any(\n",
    "            [word == x for word in keywords]\n",
    "        )\n",
    "    return find"
   ]
  },
  {
   "cell_type": "code",
   "execution_count": null,
   "metadata": {},
   "outputs": [],
   "source": [
    "def from_set(fz):\n",
    "    return {name:value for (name,value) in fz}"
   ]
  },
  {
   "cell_type": "markdown",
   "metadata": {},
   "source": [
    "# TensorFlow"
   ]
  },
  {
   "cell_type": "code",
   "execution_count": null,
   "metadata": {},
   "outputs": [],
   "source": [
    "def no_idle(df):\n",
    "    df = df[df['Operation']!='IDLE']\n",
    "    \n",
    "    return df"
   ]
  },
  {
   "cell_type": "code",
   "execution_count": null,
   "metadata": {},
   "outputs": [],
   "source": [
    "def store_tf(num):\n",
    "    dct = load('profiling/results/data_{}.tflow'.format(num))\n",
    "\n",
    "    def total_on(df, words):\n",
    "        mask = df['Operation'].apply(check(words))\n",
    "        return df[mask]['Avg. self-time (us)'].sum()\n",
    "    \n",
    "    def get(key):\n",
    "        fsk=from_set(key)\n",
    "        name = fsk['model_str']\n",
    "        \n",
    "        num=total_on(dct[key], fsk['model_str'].upper())\n",
    "        \n",
    "        fsk['total_ms'] = num\n",
    "       \n",
    "        return fsk\n",
    "    \n",
    "    big_list = filter(None, [get(key) for key in dct])\n",
    "    df = pd.DataFrame(data = big_list)\n",
    "    \n",
    "    df = df[['model_str', 'hp', 'numf', 'batch', 'nodes', 'total_ms']]\n",
    "    \n",
    "    _save(df, 'datasets/total_{}.{}'.format(num, frame))"
   ]
  },
  {
   "cell_type": "code",
   "execution_count": null,
   "metadata": {},
   "outputs": [],
   "source": [
    "store_tf(num=1)"
   ]
  },
  {
   "cell_type": "code",
   "execution_count": null,
   "metadata": {},
   "outputs": [],
   "source": [
    "store_tf(num=2)"
   ]
  },
  {
   "cell_type": "code",
   "execution_count": null,
   "metadata": {},
   "outputs": [],
   "source": [
    "store_tf(num=3)"
   ]
  },
  {
   "cell_type": "code",
   "execution_count": null,
   "metadata": {},
   "outputs": [],
   "source": [
    "load('datasets/total_{}.{}'.format(1, 'tflow'))"
   ]
  },
  {
   "cell_type": "code",
   "execution_count": null,
   "metadata": {},
   "outputs": [],
   "source": [
    "load('datasets/total_{}.{}'.format(2, 'tflow'))"
   ]
  },
  {
   "cell_type": "markdown",
   "metadata": {},
   "source": [
    "# PyTorch"
   ]
  },
  {
   "cell_type": "code",
   "execution_count": null,
   "metadata": {},
   "outputs": [],
   "source": [
    "ops_tor = {\n",
    "    'conv1d': ['conv1d', 'MkldnnConvolutionBackward'],\n",
    "    \n",
    "    'conv2d':['conv2d', 'MkldnnConvolutionBackward'],\n",
    "    \n",
    "    'avg1d': ['avg_pool1d'],\n",
    "    \n",
    "    'avg2d': ['avg_pool2d'],\n",
    "    \n",
    "    'max1d': ['max_pool1d'],\n",
    "    \n",
    "    'max2d': ['max_pool2d'],\n",
    "    \n",
    "    'dense': ['addmm', 'AddmmBackward'],\n",
    "    \n",
    "    'norm1d': ['NativeBatchNormBackward', 'batch_norm', 'native_batch_norm'],\n",
    "    \n",
    "    'norm2d': ['NativeBatchNormBackward', 'batch_norm', 'native_batch_norm']\n",
    "}"
   ]
  },
  {
   "cell_type": "code",
   "execution_count": null,
   "metadata": {},
   "outputs": [],
   "source": [
    "def df_total(dct, ops, clean):\n",
    "    def get(key):\n",
    "        key_dct = from_set(key)\n",
    "        name = key_dct['model_str']\n",
    "        \n",
    "        total = clean(dct[key], ops[name])['total_ms'].sum()\n",
    "        \n",
    "        key_dct['total_ms'] = total\n",
    "        \n",
    "        return key_dct\n",
    "    \n",
    "    big_list = [get(key) for key in dct]\n",
    "    df = pd.DataFrame(data = big_list)\n",
    "    \n",
    "    df = df[['model_str', 'hp', 'numf', 'batch', 'nodes', 'total_ms']]\n",
    "    \n",
    "    return df\n",
    "    "
   ]
  },
  {
   "cell_type": "code",
   "execution_count": null,
   "metadata": {},
   "outputs": [],
   "source": [
    "def clean_tor(_df, words):\n",
    "    df = _df.reset_index()\n",
    "    df = df[['Name', 'CPU time avg (us)']]\n",
    "    df['CPU time avg (us)'] = df['CPU time avg (us)']/1000\n",
    "    df.columns = ['op', 'total_ms']\n",
    "    df = df.sort_values(by='total_ms', ascending=False).reset_index(drop=True)\n",
    "    \n",
    "    mask = df['op'].apply(check_just(words))\n",
    "    return df[mask]"
   ]
  },
  {
   "cell_type": "code",
   "execution_count": null,
   "metadata": {},
   "outputs": [],
   "source": [
    "def store_tor(num, ops, clean):\n",
    "    dct = load('profiling/results/data_{}.torch'.format(num))\n",
    "\n",
    "    df = df_total(dct, ops, clean)\n",
    "\n",
    "    _save(df, 'datasets/total_{}.torch'.format(num))"
   ]
  },
  {
   "cell_type": "code",
   "execution_count": null,
   "metadata": {},
   "outputs": [],
   "source": [
    "def store_big(num, the_col):\n",
    "    dct = load('profiling/results/data_{}.torch'.format(num))\n",
    "\n",
    "    df = big_total(dct, the_col)\n",
    "\n",
    "    _save(df, 'datasets/big_total_{}.torch'.format(num))"
   ]
  },
  {
   "cell_type": "code",
   "execution_count": null,
   "metadata": {},
   "outputs": [],
   "source": [
    "def big_total(dct, the_col):\n",
    "    def get(key):\n",
    "        key_dct = from_set(key)\n",
    "        name = key_dct['model_str']\n",
    "        \n",
    "        total = dct[key][the_col].sum()/1000\n",
    "        \n",
    "        key_dct['total_ms'] = total\n",
    "        \n",
    "        return key_dct\n",
    "    \n",
    "    big_list = filter(None, [get(key) for key in dct])\n",
    "    df = pd.DataFrame(data = big_list)\n",
    "    \n",
    "    df = df[['model_str', 'hp', 'numf', 'batch', 'nodes', 'total_ms']]\n",
    "    \n",
    "    return df"
   ]
  },
  {
   "cell_type": "code",
   "execution_count": null,
   "metadata": {},
   "outputs": [],
   "source": [
    "store_tor(num=1, ops=ops_tor, clean=clean_tor)"
   ]
  },
  {
   "cell_type": "code",
   "execution_count": null,
   "metadata": {},
   "outputs": [],
   "source": [
    "store_tor(num=2, ops=ops_tor, clean=clean_tor)"
   ]
  },
  {
   "cell_type": "code",
   "execution_count": null,
   "metadata": {},
   "outputs": [],
   "source": [
    "store_tor(num=3, ops=ops_tor, clean=clean_tor)"
   ]
  },
  {
   "cell_type": "code",
   "execution_count": null,
   "metadata": {
    "scrolled": true
   },
   "outputs": [],
   "source": [
    "load('datasets/total_{}.{}'.format(1, 'torch'))"
   ]
  },
  {
   "cell_type": "code",
   "execution_count": null,
   "metadata": {
    "scrolled": true
   },
   "outputs": [],
   "source": [
    "load('datasets/total_{}.{}'.format(2, 'torch'))"
   ]
  },
  {
   "cell_type": "code",
   "execution_count": null,
   "metadata": {
    "scrolled": true
   },
   "outputs": [],
   "source": [
    "load('datasets/total_{}.{}'.format(3, 'torch'))"
   ]
  },
  {
   "cell_type": "code",
   "execution_count": null,
   "metadata": {},
   "outputs": [],
   "source": [
    "store_big(num=1,frame='torch', the_col='CPU time avg (us)')"
   ]
  },
  {
   "cell_type": "code",
   "execution_count": null,
   "metadata": {},
   "outputs": [],
   "source": [
    "store_big(num=2,frame='torch', the_col='CPU time avg (us)')"
   ]
  },
  {
   "cell_type": "code",
   "execution_count": null,
   "metadata": {},
   "outputs": [],
   "source": [
    "store_big(num=3,frame='torch', the_col='CPU time avg (us)')"
   ]
  },
  {
   "cell_type": "code",
   "execution_count": null,
   "metadata": {},
   "outputs": [],
   "source": [
    "load('datasets/big_total_{}.{}'.format(1, 'torch'))"
   ]
  },
  {
   "cell_type": "code",
   "execution_count": null,
   "metadata": {},
   "outputs": [],
   "source": [
    "load('datasets/big_total_{}.{}'.format(2, 'torch'))"
   ]
  },
  {
   "cell_type": "code",
   "execution_count": null,
   "metadata": {},
   "outputs": [],
   "source": [
    "load('datasets/big_total_{}.{}'.format(3, 'torch'))"
   ]
  },
  {
   "cell_type": "code",
   "execution_count": null,
   "metadata": {},
   "outputs": [],
   "source": []
  }
 ],
 "metadata": {
  "kernelspec": {
   "display_name": "Python 3",
   "language": "python",
   "name": "python3"
  },
  "language_info": {
   "codemirror_mode": {
    "name": "ipython",
    "version": 3
   },
   "file_extension": ".py",
   "mimetype": "text/x-python",
   "name": "python",
   "nbconvert_exporter": "python",
   "pygments_lexer": "ipython3",
   "version": "3.6.9"
  }
 },
 "nbformat": 4,
 "nbformat_minor": 4
}
