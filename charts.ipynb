{
 "cells": [
  {
   "cell_type": "code",
   "execution_count": null,
   "metadata": {},
   "outputs": [],
   "source": [
    "import numpy as np\n",
    "import matplotlib.pyplot as plt\n",
    "import pandas as pd"
   ]
  },
  {
   "cell_type": "code",
   "execution_count": null,
   "metadata": {},
   "outputs": [],
   "source": [
    "class Df:\n",
    "    def __init__(self,fw):\n",
    "        df = pd.read_csv('regressors/scores.{}.n1'.format(fw))\n",
    "        self.df = df[df['Layer']!='Flatten']\n",
    "        self.fw = fw\n",
    "        \n",
    "        self.layers = list(self.reg('LinearRegression')['Layer'])\n",
    "        self.regressors = list(self.lay('Convolutional 2D')['Regressor'])\n",
    "        \n",
    "        self.the = {'tflow':'TensorFlow', 'ptorch':'PyTorch'}\n",
    "    \n",
    "    def select(self, x, y):\n",
    "        return self.df[self.df[x]==y]\n",
    "    \n",
    "    def lay(self, x):\n",
    "        return self.select('Layer', x)\n",
    "    \n",
    "    def reg(self, x):\n",
    "        return self.select('Regressor', x)\n",
    "    \n",
    "    def sub(self, nrows, ncols, title, scale, fsize=40):\n",
    "        fig, axs = plt.subplots(nrows, ncols, figsize=[scale*6.4, scale*4.8], constrained_layout=True,\n",
    "                                sharey='row')\n",
    "        fig.suptitle(title, fontsize=fsize)\n",
    "        return fig, axs\n",
    "        \n",
    "    def plot(self, ax, layer, metric, fsize=40, prep = lambda x:x):\n",
    "        df = self.lay(layer)\n",
    "        metr_ls = list(df[metric])\n",
    "        ax.barh(range(1,9), list(map(prep,metr_ls)), tick_label=df['Regressor'])\n",
    "        ax.set_xlabel(layer, fontsize=fsize)\n",
    "        ax.tick_params(labelsize=fsize)\n",
    "        ax.grid(b=True)\n",
    "        \n",
    "    def plot_rmse(self):\n",
    "        fig, axs = self.sub(2,4,'RMSEx10^3 - {}'.format(self.the[self.fw]),6)\n",
    "        for ax,layer in zip(axs.flat,self.layers):\n",
    "            self.plot(ax,layer,'RMSE',prep=lambda x:x*10**3)\n",
    "            \n",
    "        fig.savefig('regressors/{}_rmse'.format(self.fw), facecolor='white')\n",
    "        \n",
    "    def plot_r2(self):\n",
    "        fig, axs = self.sub(2,4,'max(0,R^2) - {}'.format(self.the[self.fw]),6)\n",
    "        for ax,layer in zip(axs.flat,self.layers):\n",
    "            self.plot(ax,layer,'R^2',prep=lambda x:max(0,x))\n",
    "        \n",
    "        for ax in axs.flat:\n",
    "            ax.set_xlim([0,1])\n",
    "            \n",
    "        fig.savefig('regressors/{}_r2'.format(self.fw), facecolor='white')\n",
    "        "
   ]
  },
  {
   "cell_type": "code",
   "execution_count": null,
   "metadata": {},
   "outputs": [],
   "source": [
    "fws = ['tflow', 'ptorch']"
   ]
  },
  {
   "cell_type": "code",
   "execution_count": null,
   "metadata": {},
   "outputs": [],
   "source": [
    "tf = Df('tflow')\n",
    "pt = Df('ptorch')"
   ]
  },
  {
   "cell_type": "code",
   "execution_count": null,
   "metadata": {
    "scrolled": false
   },
   "outputs": [],
   "source": [
    "tf.plot_rmse()\n",
    "tf.plot_r2()"
   ]
  },
  {
   "cell_type": "code",
   "execution_count": null,
   "metadata": {},
   "outputs": [],
   "source": [
    "pt.plot_rmse()\n",
    "pt.plot_r2()"
   ]
  },
  {
   "cell_type": "code",
   "execution_count": null,
   "metadata": {},
   "outputs": [],
   "source": []
  }
 ],
 "metadata": {
  "kernelspec": {
   "display_name": "Python 3",
   "language": "python",
   "name": "python3"
  },
  "language_info": {
   "codemirror_mode": {
    "name": "ipython",
    "version": 3
   },
   "file_extension": ".py",
   "mimetype": "text/x-python",
   "name": "python",
   "nbconvert_exporter": "python",
   "pygments_lexer": "ipython3",
   "version": "3.6.9"
  }
 },
 "nbformat": 4,
 "nbformat_minor": 4
}
