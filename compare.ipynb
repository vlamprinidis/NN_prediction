{
 "cells": [
  {
   "cell_type": "code",
   "execution_count": null,
   "metadata": {},
   "outputs": [],
   "source": [
    "import numpy as np\n",
    "import matplotlib.pyplot as plt\n",
    "import pandas as pd"
   ]
  },
  {
   "cell_type": "code",
   "execution_count": null,
   "metadata": {},
   "outputs": [],
   "source": [
    "l1_small_tf = pd.read_csv('tables/lenet1_small.tflow')\n",
    "\n",
    "l1_big_tf = pd.read_csv('tables/lenet1_big.tflow')\n",
    "\n",
    "l5_small_tf = pd.read_csv('tables/lenet5_small.tflow')\n",
    "\n",
    "l5_big_tf = pd.read_csv('tables/lenet5_big.tflow')\n",
    "\n",
    "vgg11_tf = pd.read_csv('tables/vgg11.tflow')"
   ]
  },
  {
   "cell_type": "code",
   "execution_count": null,
   "metadata": {},
   "outputs": [],
   "source": [
    "l1_small_pt = pd.read_csv('tables/lenet1_small.ptorch')\n",
    "\n",
    "l1_big_pt = pd.read_csv('tables/lenet1_big.ptorch')\n",
    "\n",
    "l5_small_pt = pd.read_csv('tables/lenet5_small.ptorch')\n",
    "\n",
    "l5_big_pt = pd.read_csv('tables/lenet5_big.ptorch')\n",
    "\n",
    "vgg11_pt = pd.read_csv('tables/vgg11.ptorch')"
   ]
  },
  {
   "cell_type": "code",
   "execution_count": null,
   "metadata": {},
   "outputs": [],
   "source": [
    "def create(df,title):\n",
    "    df=df.drop(columns=['Difference(s)','Error%'])\n",
    "    \n",
    "    fs = 25\n",
    "    scale=2\n",
    "    ax=df.set_index(['Batch size','Nodes']).plot.bar(figsize=[scale*6.4, scale*4.8],fontsize=fs)\n",
    "\n",
    "    ax.xaxis.label.set_size(fs)\n",
    "    ax.yaxis.label.set_size(fs)\n",
    "    ax.legend(prop={'size':fs})\n",
    "    ax.figure.suptitle(title, fontsize=fs)\n",
    "    \n",
    "    ax.figure.tight_layout()\n",
    "    ax.figure.savefig('compare/{}'.format(title), facecolor='white')\n",
    "    \n",
    "    ax.figure"
   ]
  },
  {
   "cell_type": "code",
   "execution_count": null,
   "metadata": {
    "scrolled": false
   },
   "outputs": [],
   "source": [
    "create(l1_small_tf,'Tensorflow, LeNet-1 (Small dataset)')\n",
    "\n",
    "create(l1_big_tf,'TensorFlow, LeNet-1 (Big dataset)')\n",
    "\n",
    "create(l5_small_tf,'Tensorflow, LeNet-5 (Small dataset)')\n",
    "\n",
    "create(l5_big_tf,'TensorFlow, LeNet-5 (Big dataset)')\n",
    "\n",
    "create(vgg11_tf, 'TensorFlow, VGG-11')"
   ]
  },
  {
   "cell_type": "code",
   "execution_count": null,
   "metadata": {
    "scrolled": false
   },
   "outputs": [],
   "source": [
    "create(l1_small_pt,'PyTorch, LeNet-1 (Small dataset)')\n",
    "\n",
    "create(l1_big_pt,'PyTorch, LeNet-1 (Big dataset)')\n",
    "\n",
    "create(l5_small_pt,'PyTorch, LeNet-5 (Small dataset)')\n",
    "\n",
    "create(l5_big_pt,'PyTorch, LeNet-5 (Big dataset)')\n",
    "\n",
    "create(vgg11_pt, 'PyTorch, VGG-11')"
   ]
  },
  {
   "cell_type": "code",
   "execution_count": null,
   "metadata": {},
   "outputs": [],
   "source": []
  }
 ],
 "metadata": {
  "kernelspec": {
   "display_name": "Python 3",
   "language": "python",
   "name": "python3"
  },
  "language_info": {
   "codemirror_mode": {
    "name": "ipython",
    "version": 3
   },
   "file_extension": ".py",
   "mimetype": "text/x-python",
   "name": "python",
   "nbconvert_exporter": "python",
   "pygments_lexer": "ipython3",
   "version": "3.6.9"
  }
 },
 "nbformat": 4,
 "nbformat_minor": 4
}
