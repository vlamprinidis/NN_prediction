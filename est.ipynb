{
 "cells": [
  {
   "cell_type": "code",
   "execution_count": 1,
   "metadata": {},
   "outputs": [],
   "source": [
    "import lib"
   ]
  },
  {
   "cell_type": "code",
   "execution_count": 2,
   "metadata": {
    "scrolled": true
   },
   "outputs": [
    {
     "name": "stdout",
     "output_type": "stream",
     "text": [
      "conv1d.ptorch missing\n",
      "\n",
      "conv2d\n",
      "Model: RandomForestRegressor()\n",
      "R^2 Score: 0.963638205480988\n",
      "Root Mean Squared Error: 2.4674976446222905 ms\n",
      "\n",
      "avg1d.ptorch missing\n",
      "\n",
      "avg2d\n",
      "Model: RandomForestRegressor()\n",
      "R^2 Score: 0.9795471021919575\n",
      "Root Mean Squared Error: 0.8431750019442411 ms\n",
      "\n",
      "max1d.ptorch missing\n",
      "\n",
      "max2d\n",
      "Model: RandomForestRegressor()\n",
      "R^2 Score: 0.9671415225859767\n",
      "Root Mean Squared Error: 2.3847707856416536 ms\n",
      "\n",
      "dense\n",
      "Model: RandomForestRegressor()\n",
      "R^2 Score: 0.9179523638663839\n",
      "Root Mean Squared Error: 0.4435989628280327 ms\n",
      "\n",
      "final_dense\n",
      "Model: RandomForestRegressor()\n",
      "R^2 Score: 0.8718729888751496\n",
      "Root Mean Squared Error: 0.2649711640960979 ms\n",
      "\n",
      "drop1d.ptorch missing\n",
      "\n",
      "drop2d\n",
      "Model: RandomForestRegressor()\n",
      "R^2 Score: 0.8796310908720765\n",
      "Root Mean Squared Error: 0.1695862438305493 ms\n",
      "\n",
      "norm1d.ptorch missing\n",
      "\n",
      "norm2d\n",
      "Model: RandomForestRegressor()\n",
      "R^2 Score: 0.8586911995374047\n",
      "Root Mean Squared Error: 1.0895934399253902 ms\n",
      "\n",
      "relu1d.ptorch missing\n",
      "\n",
      "relu2d\n",
      "Model: RandomForestRegressor()\n",
      "R^2 Score: 0.8220644706132969\n",
      "Root Mean Squared Error: 0.25014294120130653 ms\n",
      "\n",
      "tanh1d.ptorch missing\n",
      "\n",
      "tanh2d\n",
      "Model: RandomForestRegressor()\n",
      "R^2 Score: 0.6311323302802272\n",
      "Root Mean Squared Error: 0.6369429484636204 ms\n",
      "\n",
      "flatten1d.ptorch missing\n",
      "\n",
      "flatten2d\n",
      "Model: RandomForestRegressor()\n",
      "R^2 Score: 0.7224490156553754\n",
      "Root Mean Squared Error: 0.0014526688555409927 ms\n",
      "\n"
     ]
    }
   ],
   "source": [
    "reg = lib.Reg('ptorch')"
   ]
  },
  {
   "cell_type": "code",
   "execution_count": 3,
   "metadata": {},
   "outputs": [],
   "source": [
    "import sys"
   ]
  },
  {
   "cell_type": "code",
   "execution_count": 4,
   "metadata": {},
   "outputs": [],
   "source": [
    "sys.path.append('../')"
   ]
  },
  {
   "cell_type": "code",
   "execution_count": 5,
   "metadata": {},
   "outputs": [],
   "source": [
    "from execute.torch_models import LeNet5 as Model"
   ]
  },
  {
   "cell_type": "code",
   "execution_count": 6,
   "metadata": {},
   "outputs": [],
   "source": [
    "model = Model().model"
   ]
  },
  {
   "cell_type": "code",
   "execution_count": 7,
   "metadata": {},
   "outputs": [],
   "source": [
    "import ptorch"
   ]
  },
  {
   "cell_type": "code",
   "execution_count": 57,
   "metadata": {},
   "outputs": [],
   "source": [
    "batch = 64\n",
    "epochs = 5\n",
    "ds = 60000\n",
    "nodes = 2\n",
    "steps = epochs*max(1,ds/nodes/batch)"
   ]
  },
  {
   "cell_type": "code",
   "execution_count": 58,
   "metadata": {},
   "outputs": [],
   "source": [
    "layers = ptorch.extract(model, 2, batch, 32, 1)"
   ]
  },
  {
   "cell_type": "code",
   "execution_count": 59,
   "metadata": {},
   "outputs": [],
   "source": [
    "layers[-1]['name'] = 'final_dense'"
   ]
  },
  {
   "cell_type": "code",
   "execution_count": 60,
   "metadata": {
    "scrolled": true
   },
   "outputs": [
    {
     "data": {
      "text/plain": [
       "30.191209937988273"
      ]
     },
     "execution_count": 60,
     "metadata": {},
     "output_type": "execute_result"
    }
   ],
   "source": [
    "steps*lib.total_time(reg.reg_map, layers, nodes)/1000/1000"
   ]
  },
  {
   "cell_type": "code",
   "execution_count": 48,
   "metadata": {},
   "outputs": [
    {
     "data": {
      "text/plain": [
       "1562.5"
      ]
     },
     "execution_count": 48,
     "metadata": {},
     "output_type": "execute_result"
    }
   ],
   "source": [
    "steps"
   ]
  },
  {
   "cell_type": "code",
   "execution_count": null,
   "metadata": {},
   "outputs": [],
   "source": []
  }
 ],
 "metadata": {
  "kernelspec": {
   "display_name": "Python 3",
   "language": "python",
   "name": "python3"
  },
  "language_info": {
   "codemirror_mode": {
    "name": "ipython",
    "version": 3
   },
   "file_extension": ".py",
   "mimetype": "text/x-python",
   "name": "python",
   "nbconvert_exporter": "python",
   "pygments_lexer": "ipython3",
   "version": "3.6.9"
  }
 },
 "nbformat": 4,
 "nbformat_minor": 4
}
