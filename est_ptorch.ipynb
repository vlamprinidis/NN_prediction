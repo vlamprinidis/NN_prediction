{
 "cells": [
  {
   "cell_type": "code",
   "execution_count": null,
   "metadata": {},
   "outputs": [],
   "source": [
    "import lib\n",
    "import ptorch\n",
    "import sys\n",
    "sys.path.append('../')\n",
    "reg = lib.Reg('ptorch')"
   ]
  },
  {
   "cell_type": "code",
   "execution_count": null,
   "metadata": {},
   "outputs": [],
   "source": [
    "def show(Model, dim, batch, numf, channels, epochs, ds, nodes):\n",
    "    M = Model()\n",
    "    model = M.create()\n",
    "    layers = ptorch.extract(model, dim, batch, numf, channels)\n",
    "    print('PyTorch')\n",
    "    print(M.__class__.__name__)\n",
    "    print('Dim: {}, Batch: {}, Nodes: {}, Numf: {}, Channels: {}'.format(dim, batch,nodes,numf,channels))\n",
    "    print('Epochs: {}, Dataset size: {}'.format(epochs, ds))\n",
    "    print('Time(sec):')\n",
    "    total = lib.predict(reg.reg_map, layers, epochs, ds, nodes, batch)\n",
    "    print(total)\n",
    "    print()"
   ]
  },
  {
   "cell_type": "code",
   "execution_count": null,
   "metadata": {},
   "outputs": [],
   "source": [
    "from execute.torch_models import LeNet5 as Model"
   ]
  },
  {
   "cell_type": "code",
   "execution_count": null,
   "metadata": {},
   "outputs": [],
   "source": [
    "show(Model, dim=2, batch=32, numf=32, channels=1, epochs=5, ds=60000, nodes=1)"
   ]
  }
 ],
 "metadata": {
  "kernelspec": {
   "display_name": "Python 3",
   "language": "python",
   "name": "python3"
  },
  "language_info": {
   "codemirror_mode": {
    "name": "ipython",
    "version": 3
   },
   "file_extension": ".py",
   "mimetype": "text/x-python",
   "name": "python",
   "nbconvert_exporter": "python",
   "pygments_lexer": "ipython3",
   "version": "3.6.9"
  }
 },
 "nbformat": 4,
 "nbformat_minor": 4
}
