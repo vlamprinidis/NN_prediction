{
 "cells": [
  {
   "cell_type": "code",
   "execution_count": null,
   "metadata": {},
   "outputs": [],
   "source": [
    "import lib\n",
    "import tflow\n",
    "import sys\n",
    "sys.path.append('../')\n",
    "reg = lib.Reg('tflow')"
   ]
  },
  {
   "cell_type": "code",
   "execution_count": null,
   "metadata": {},
   "outputs": [],
   "source": [
    "def show(Model, dim, batch, numf, channels, epochs, ds, nodes):\n",
    "    model = Model().create()\n",
    "    layers = tflow.extract(model, dim, batch, numf, channels)\n",
    "    layers[-1]['name'] = 'final_dense'\n",
    "    print('TensorFlow')\n",
    "    print('Dim: {}, Batch: {}, Nodes: {}, Numf: {}, Channels: {}'.format(dim, batch,nodes,numf,channels))\n",
    "    print('Epochs: {}, Dataset size: {}'.format(epochs, ds))\n",
    "    print('Time(sec):')\n",
    "    total = lib.predict(reg.reg_map, layers, epochs, ds, nodes, batch)\n",
    "    print(total)\n",
    "    print()"
   ]
  },
  {
   "cell_type": "code",
   "execution_count": null,
   "metadata": {},
   "outputs": [],
   "source": [
    "from execute.tflow_models import LeNet5 as Model"
   ]
  },
  {
   "cell_type": "code",
   "execution_count": null,
   "metadata": {},
   "outputs": [],
   "source": [
    "show(Model, dim=2, batch=32, numf=28, channels=1, epochs=5, ds=60000, nodes=1)"
   ]
  },
  {
   "cell_type": "code",
   "execution_count": null,
   "metadata": {},
   "outputs": [],
   "source": []
  }
 ],
 "metadata": {
  "kernelspec": {
   "display_name": "Python 3",
   "language": "python",
   "name": "python3"
  },
  "language_info": {
   "codemirror_mode": {
    "name": "ipython",
    "version": 3
   },
   "file_extension": ".py",
   "mimetype": "text/x-python",
   "name": "python",
   "nbconvert_exporter": "python",
   "pygments_lexer": "ipython3",
   "version": "3.6.9"
  }
 },
 "nbformat": 4,
 "nbformat_minor": 4
}
