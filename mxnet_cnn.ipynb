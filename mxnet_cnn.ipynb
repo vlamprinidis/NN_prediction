{
 "cells": [
  {
   "cell_type": "code",
   "execution_count": null,
   "metadata": {},
   "outputs": [],
   "source": [
    "from mxnet import gluon\n",
    "from mxnet.gluon.data.vision import datasets, transforms"
   ]
  },
  {
   "cell_type": "code",
   "execution_count": null,
   "metadata": {},
   "outputs": [],
   "source": [
    "train_dataset = datasets.MNIST(train=True).transform_first(transforms.ToTensor())\n",
    "\n",
    "mx_train_data = gluon.data.DataLoader(\n",
    "    train_dataset, batch_size=100, shuffle=True)"
   ]
  },
  {
   "cell_type": "code",
   "execution_count": null,
   "metadata": {},
   "outputs": [],
   "source": [
    "import mxnet.gluon.nn as mx_nn\n",
    "\n",
    "mx_net = mx_nn.Sequential()\n",
    "mx_net.add(\n",
    "    mx_nn.Conv2D(channels = 6, kernel_size = 5, strides = 1, \n",
    "                activation = 'tanh'),\n",
    "    mx_nn.AvgPool2D(pool_size = 2, strides = 2),\n",
    "    \n",
    "    mx_nn.Conv2D(channels = 16, kernel_size = 5, strides = 1, \n",
    "                activation = 'tanh'),\n",
    "    mx_nn.AvgPool2D(pool_size = 2, strides = 2),\n",
    "    \n",
    "    #Dense has flatten = True by default\n",
    "    mx_nn.Dense(units = 120, activation = 'tanh'),\n",
    "    mx_nn.Dense(units = 84, activation = 'tanh'),\n",
    "    mx_nn.Dense(units = 10, flatten = False)\n",
    ")\n",
    "\n",
    "mx_net.initialize()"
   ]
  },
  {
   "cell_type": "code",
   "execution_count": null,
   "metadata": {},
   "outputs": [],
   "source": [
    "mx_loss_fn = gluon.loss.SoftmaxCrossEntropyLoss()\n",
    "mx_trainer = gluon.Trainer(mx_net.collect_params(),\n",
    "                           'sgd', {'learning_rate': 0.1})"
   ]
  },
  {
   "cell_type": "code",
   "execution_count": null,
   "metadata": {},
   "outputs": [],
   "source": [
    "import time\n",
    "from mxnet import autograd\n",
    "\n",
    "for epoch in range(5):\n",
    "    total_loss = .0\n",
    "    tic = time.time()\n",
    "    for X, y in mx_train_data:\n",
    "        with autograd.record():\n",
    "            loss = mx_loss_fn(mx_net(X), y)\n",
    "        loss.backward()\n",
    "        mx_trainer.step(batch_size=100)\n",
    "        total_loss += loss.mean().asscalar()\n",
    "    print('epoch %d, avg loss %.4f, time %.2f' % (\n",
    "        epoch, total_loss/len(mx_train_data), time.time()-tic))"
   ]
  },
  {
   "cell_type": "code",
   "execution_count": null,
   "metadata": {},
   "outputs": [],
   "source": []
  },
  {
   "cell_type": "code",
   "execution_count": null,
   "metadata": {},
   "outputs": [],
   "source": []
  }
 ],
 "metadata": {
  "kernelspec": {
   "display_name": "Python 3",
   "language": "python",
   "name": "python3"
  },
  "language_info": {
   "codemirror_mode": {
    "name": "ipython",
    "version": 3
   },
   "file_extension": ".py",
   "mimetype": "text/x-python",
   "name": "python",
   "nbconvert_exporter": "python",
   "pygments_lexer": "ipython3",
   "version": "3.7.7"
  }
 },
 "nbformat": 4,
 "nbformat_minor": 4
}
