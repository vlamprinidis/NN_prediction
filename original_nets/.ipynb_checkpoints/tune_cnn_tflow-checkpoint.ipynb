{
 "cells": [
  {
   "cell_type": "code",
   "execution_count": 1,
   "metadata": {},
   "outputs": [],
   "source": [
    "# !pip uninstall -y -q tensorflow tensorboard\n",
    "# !pip uninstall -y -q tensorflow tensorboard\n",
    "# !pip install -q -U -q tf-nightly tb-nightly tensorboard_plugin_profile"
   ]
  },
  {
   "cell_type": "code",
   "execution_count": 2,
   "metadata": {},
   "outputs": [],
   "source": [
    "# !pip uninstall tensorflow\n",
    "\n",
    "# !pip install tensorflow --ignore-installed"
   ]
  },
  {
   "cell_type": "code",
   "execution_count": 3,
   "metadata": {},
   "outputs": [],
   "source": [
    "NODES = 2\n",
    "RANK = 0\n",
    "EPOCHS = 10\n",
    "BATCH = 512"
   ]
  },
  {
   "cell_type": "code",
   "execution_count": 4,
   "metadata": {},
   "outputs": [],
   "source": [
    "%load_ext tensorboard\n",
    "import tensorflow as  tf\n",
    "from tensorflow.keras.models import Sequential\n",
    "from tensorflow.keras.layers import Dense, Conv2D, AveragePooling2D, Flatten\n",
    "from tensorflow import keras"
   ]
  },
  {
   "cell_type": "code",
   "execution_count": 5,
   "metadata": {},
   "outputs": [],
   "source": [
    "mnist = tf.keras.datasets.mnist\n",
    "\n",
    "(x_train, y_train), (x_test, y_test) = mnist.load_data()\n",
    "\n",
    "rows, cols = 28, 28\n",
    " \n",
    "x_train = x_train.reshape(x_train.shape[0], rows, cols, 1)\n",
    "x_test = x_test.reshape(x_test.shape[0], rows, cols, 1)\n",
    "\n",
    "input_shape = (rows, cols, 1)\n",
    "\n",
    "x_train = x_train.astype('float32')\n",
    "x_test = x_test.astype('float32')\n",
    "\n",
    "# one-hot encode the labels\n",
    "y_train = tf.keras.utils.to_categorical(y_train, 10)\n",
    "y_test = tf.keras.utils.to_categorical(y_test, 10)\n",
    "\n",
    "def build_cnn():\n",
    "    \n",
    "    CONV_KERNEL = 5\n",
    "    CONV_STRIDE = 1\n",
    "\n",
    "    AVG_KERNEL = 2\n",
    "    AVG_STRIDE = 2\n",
    "        \n",
    "    model = Sequential()\n",
    "    \n",
    "    model.add(\n",
    "        Conv2D(filters=6, \n",
    "               kernel_size=(CONV_KERNEL, CONV_KERNEL), \n",
    "               strides=(CONV_STRIDE, CONV_STRIDE),\n",
    "               input_shape = input_shape,\n",
    "               activation='tanh')\n",
    "    )\n",
    "    \n",
    "    model.add(\n",
    "        AveragePooling2D(pool_size=(2, 2), \n",
    "                         strides=(2, 2))\n",
    "    )\n",
    "    \n",
    "    model.add(\n",
    "        Conv2D(filters=16, \n",
    "               kernel_size=(CONV_KERNEL, CONV_KERNEL), \n",
    "               strides=(CONV_STRIDE, CONV_STRIDE), \n",
    "               activation='tanh')\n",
    "    )\n",
    "    \n",
    "    model.add(\n",
    "        AveragePooling2D(pool_size=(AVG_KERNEL, AVG_KERNEL), \n",
    "                         strides=(AVG_STRIDE, AVG_STRIDE))\n",
    "    )\n",
    "    \n",
    "    model.add(Flatten())\n",
    "    \n",
    "    model.add(\n",
    "        Dense(units = 120, activation='tanh')\n",
    "    )\n",
    "    \n",
    "    model.add(Flatten())\n",
    "    \n",
    "    model.add(\n",
    "        Dense(units = 84, activation='tanh')\n",
    "    )\n",
    "    \n",
    "    model.add(\n",
    "        Dense(units = 10, activation='softmax')\n",
    "    )\n",
    "    \n",
    "    opt = tf.keras.optimizers.SGD(lr=0.1, momentum=0.0, decay=0.0)\n",
    "    \n",
    "    model.compile(loss='categorical_crossentropy', optimizer=opt,\n",
    "             metrics=['accuracy'])\n",
    "  \n",
    "    return model\n"
   ]
  },
  {
   "cell_type": "code",
   "execution_count": 6,
   "metadata": {},
   "outputs": [
    {
     "name": "stdout",
     "output_type": "stream",
     "text": [
      "INFO:tensorflow:Enabled multi-worker collective ops with available devices: ['/job:worker/replica:0/task:0/device:CPU:0', '/job:worker/replica:0/task:0/device:XLA_CPU:0']\n",
      "INFO:tensorflow:Using MirroredStrategy with devices ('/job:worker/task:0',)\n",
      "INFO:tensorflow:MultiWorkerMirroredStrategy with cluster_spec = {'worker': ['10.0.1.121:8890', '10.0.1.104:8890']}, task_type = 'worker', task_id = 0, num_workers = 2, local_devices = ('/job:worker/task:0',), communication = CollectiveCommunication.AUTO\n"
     ]
    }
   ],
   "source": [
    "if NODES > 1:\n",
    "    workers = []\n",
    "    if NODES == 2:\n",
    "        workers = [\"10.0.1.121:8890\", \"10.0.1.104:8890\"]\n",
    "    else:\n",
    "        workers = [\"10.0.1.121:8890\", \"10.0.1.104:8890\", \"10.0.1.46:8890\"]\n",
    "    import json\n",
    "    import os\n",
    "    os.environ['TF_CONFIG'] = json.dumps({\n",
    "        'cluster': {\n",
    "            'worker': workers\n",
    "        },\n",
    "        'task': {'type': 'worker', 'index': RANK}\n",
    "    })\n",
    "    strategy = tf.distribute.experimental.MultiWorkerMirroredStrategy()\n",
    "    with strategy.scope():\n",
    "        net = build_cnn()\n",
    "else:\n",
    "    net = build_cnn()"
   ]
  },
  {
   "cell_type": "code",
   "execution_count": 7,
   "metadata": {},
   "outputs": [],
   "source": [
    "logdir = 'logs/tf_cnn_{}batch_node{}of{}_4CPUs'.format(BATCH,RANK+1,NODES)\n",
    "!rm -rf {logdir}\n",
    "tensorboard_callback = keras.callbacks.TensorBoard(log_dir=logdir, write_graph=True,update_freq='batch',\n",
    "                                                  profile_batch=(1,60000//BATCH))"
   ]
  },
  {
   "cell_type": "code",
   "execution_count": 8,
   "metadata": {},
   "outputs": [
    {
     "name": "stdout",
     "output_type": "stream",
     "text": [
      "INFO:tensorflow:Running Distribute Coordinator with mode = 'independent_worker', cluster_spec = {'worker': ['10.0.1.121:8890', '10.0.1.104:8890']}, task_type = 'worker', task_id = 0, environment = None, rpc_layer = 'grpc'\n",
      "WARNING:tensorflow:`eval_fn` is not passed in. The `worker_fn` will be used if an \"evaluator\" task exists in the cluster.\n",
      "WARNING:tensorflow:`eval_strategy` is not passed in. No distribution strategy will be used for evaluation.\n",
      "INFO:tensorflow:Using MirroredStrategy with devices ('/job:worker/task:0',)\n",
      "INFO:tensorflow:MultiWorkerMirroredStrategy with cluster_spec = {'worker': ['10.0.1.121:8890', '10.0.1.104:8890']}, task_type = 'worker', task_id = 0, num_workers = 2, local_devices = ('/job:worker/task:0',), communication = CollectiveCommunication.AUTO\n",
      "INFO:tensorflow:Using MirroredStrategy with devices ('/job:worker/task:0',)\n",
      "INFO:tensorflow:MultiWorkerMirroredStrategy with cluster_spec = {'worker': ['10.0.1.121:8890', '10.0.1.104:8890']}, task_type = 'worker', task_id = 0, num_workers = 2, local_devices = ('/job:worker/task:0',), communication = CollectiveCommunication.AUTO\n",
      "Epoch 1/10\n",
      "INFO:tensorflow:Collective batch_all_reduce: 10 all-reduces, num_workers = 2, communication_hint = AUTO, num_packs = 1\n",
      "INFO:tensorflow:Collective batch_all_reduce: 1 all-reduces, num_workers = 2, communication_hint = AUTO, num_packs = 1\n",
      "INFO:tensorflow:Collective batch_all_reduce: 1 all-reduces, num_workers = 2, communication_hint = AUTO, num_packs = 1\n",
      "INFO:tensorflow:Collective batch_all_reduce: 1 all-reduces, num_workers = 2, communication_hint = AUTO, num_packs = 1\n",
      "INFO:tensorflow:Collective batch_all_reduce: 1 all-reduces, num_workers = 2, communication_hint = AUTO, num_packs = 1\n",
      "INFO:tensorflow:Collective batch_all_reduce: 10 all-reduces, num_workers = 2, communication_hint = AUTO, num_packs = 1\n",
      "INFO:tensorflow:Collective batch_all_reduce: 1 all-reduces, num_workers = 2, communication_hint = AUTO, num_packs = 1\n",
      "INFO:tensorflow:Collective batch_all_reduce: 1 all-reduces, num_workers = 2, communication_hint = AUTO, num_packs = 1\n",
      "INFO:tensorflow:Collective batch_all_reduce: 1 all-reduces, num_workers = 2, communication_hint = AUTO, num_packs = 1\n",
      "INFO:tensorflow:Collective batch_all_reduce: 1 all-reduces, num_workers = 2, communication_hint = AUTO, num_packs = 1\n",
      "116/118 [============================>.] - ETA: 0s - loss: 0.5202 - accuracy: 0.8738WARNING:tensorflow:From /home/ubuntu/night/lib/python3.5/site-packages/tensorflow/python/ops/summary_ops_v2.py:1271: stop (from tensorflow.python.eager.profiler) is deprecated and will be removed after 2020-07-01.\n",
      "Instructions for updating:\n",
      "use `tf.profiler.experimental.stop` instead.\n",
      "117/118 [============================>.] - ETA: 0s - loss: 0.5177 - accuracy: 0.8744INFO:tensorflow:Collective batch_all_reduce: 1 all-reduces, num_workers = 2, communication_hint = AUTO, num_packs = 1\n",
      "INFO:tensorflow:Collective batch_all_reduce: 1 all-reduces, num_workers = 2, communication_hint = AUTO, num_packs = 1\n",
      "118/118 [==============================] - 9s 80ms/step - loss: 0.5146 - accuracy: 0.8745 - val_accuracy: 0.9460 - val_loss: 0.2136\n",
      "Epoch 2/10\n",
      "118/118 [==============================] - 9s 77ms/step - loss: 0.1767 - accuracy: 0.9521 - val_accuracy: 0.9592 - val_loss: 0.1430\n",
      "Epoch 3/10\n",
      "118/118 [==============================] - 9s 76ms/step - loss: 0.1331 - accuracy: 0.9632 - val_accuracy: 0.9591 - val_loss: 0.1393\n",
      "Epoch 4/10\n",
      "118/118 [==============================] - 9s 77ms/step - loss: 0.1103 - accuracy: 0.9688 - val_accuracy: 0.9739 - val_loss: 0.0920\n",
      "Epoch 5/10\n",
      "118/118 [==============================] - 9s 73ms/step - loss: 0.0981 - accuracy: 0.9715 - val_accuracy: 0.9732 - val_loss: 0.0908\n",
      "Epoch 6/10\n",
      "118/118 [==============================] - 9s 76ms/step - loss: 0.0881 - accuracy: 0.9747 - val_accuracy: 0.9767 - val_loss: 0.0794\n",
      "Epoch 7/10\n",
      "118/118 [==============================] - 9s 76ms/step - loss: 0.0806 - accuracy: 0.9768 - val_accuracy: 0.9716 - val_loss: 0.0933\n",
      "Epoch 8/10\n",
      "118/118 [==============================] - 9s 78ms/step - loss: 0.0756 - accuracy: 0.9785 - val_accuracy: 0.9793 - val_loss: 0.0680\n",
      "Epoch 9/10\n",
      "118/118 [==============================] - 9s 77ms/step - loss: 0.0730 - accuracy: 0.9787 - val_accuracy: 0.9796 - val_loss: 0.0619\n",
      "Epoch 10/10\n",
      "118/118 [==============================] - 9s 77ms/step - loss: 0.0685 - accuracy: 0.9801 - val_accuracy: 0.9785 - val_loss: 0.0666\n"
     ]
    },
    {
     "data": {
      "text/plain": [
       "<tensorflow.python.keras.callbacks.History at 0x7fe583fd2978>"
      ]
     },
     "execution_count": 8,
     "metadata": {},
     "output_type": "execute_result"
    }
   ],
   "source": [
    "net.fit(x_train, y_train, batch_size = BATCH,\n",
    "            epochs=EPOCHS, validation_data=(x_test, y_test),\n",
    "            callbacks=[tensorboard_callback])"
   ]
  },
  {
   "cell_type": "code",
   "execution_count": 9,
   "metadata": {},
   "outputs": [
    {
     "name": "stdout",
     "output_type": "stream",
     "text": [
      "TensorFlow version:  2.2.0-dev20200410\n"
     ]
    }
   ],
   "source": [
    "print(\"TensorFlow version: \", tf.__version__)"
   ]
  },
  {
   "cell_type": "code",
   "execution_count": 10,
   "metadata": {
    "scrolled": false
   },
   "outputs": [],
   "source": [
    "# %tensorboard --logdir logs --port 6006 --bind_all"
   ]
  }
 ],
 "metadata": {
  "kernelspec": {
   "display_name": "Python 3",
   "language": "python",
   "name": "python3"
  },
  "language_info": {
   "codemirror_mode": {
    "name": "ipython",
    "version": 3
   },
   "file_extension": ".py",
   "mimetype": "text/x-python",
   "name": "python",
   "nbconvert_exporter": "python",
   "pygments_lexer": "ipython3",
   "version": "3.5.2"
  }
 },
 "nbformat": 4,
 "nbformat_minor": 4
}
