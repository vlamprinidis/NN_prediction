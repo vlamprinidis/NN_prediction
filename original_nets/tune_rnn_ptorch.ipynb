{
 "cells": [
  {
   "cell_type": "code",
   "execution_count": 1,
   "metadata": {},
   "outputs": [],
   "source": [
    "BATCH = 512\n",
    "EPOCHS = 10\n",
    "\n",
    "RANK = 0\n",
    "NODES = 3"
   ]
  },
  {
   "cell_type": "code",
   "execution_count": 2,
   "metadata": {},
   "outputs": [],
   "source": [
    "import torch \n",
    "import torch.nn as nn\n",
    "import torchvision\n",
    "import torchvision.transforms as transforms\n",
    "from collections import OrderedDict"
   ]
  },
  {
   "cell_type": "code",
   "execution_count": 3,
   "metadata": {},
   "outputs": [],
   "source": [
    "import torch.nn.functional as F\n",
    "\n",
    "sequence_length = 28\n",
    "input_size = 28\n",
    "\n",
    "# Hyper-parameters\n",
    "learning_rate = 0.01\n",
    "\n",
    "num_classes = 10\n",
    "num_cells = 128\n",
    "dense_size = 32\n",
    "drop_pr = 0.2\n",
    "\n",
    "# Recurrent neural network (many-to-one)\n",
    "class RNN(nn.Module):\n",
    "    def __init__(self):\n",
    "        super(RNN, self).__init__()\n",
    "        self.rnn = nn.LSTM(input_size, num_cells, num_layers=1, batch_first=True)\n",
    "        self.fc1 = nn.Linear(128, dense_size)\n",
    "        self.fc2 = nn.Linear(dense_size, num_classes)\n",
    "        self.dropout = nn.Dropout(drop_pr)\n",
    "    \n",
    "    def forward(self, x):\n",
    "        # Set initial hidden and cell states \n",
    "        h0 = torch.zeros(1, x.size(0), num_cells)\n",
    "        c0 = torch.zeros(1, x.size(0), num_cells)\n",
    "        \n",
    "        # Forward propagate LSTM\n",
    "        out, _ = self.rnn(x, (h0, c0))  # out: tensor of shape (batch_size, seq_length, num_cells)\n",
    "        \n",
    "        out = self.dropout(out[:, -1, :])\n",
    "        \n",
    "        out = F.relu(self.fc1(out))\n",
    "        \n",
    "        out = self.dropout(out)\n",
    "        \n",
    "        out = self.fc2(out) # no softmax needed - nn.CrossEntropy does it\n",
    "        \n",
    "        return out\n",
    "\n"
   ]
  },
  {
   "cell_type": "code",
   "execution_count": 4,
   "metadata": {},
   "outputs": [],
   "source": [
    "# MNIST dataset\n",
    "train_dataset = torchvision.datasets.MNIST(root='../data/',\n",
    "                                           train=True, \n",
    "                                           transform=transforms.ToTensor(),\n",
    "                                           download=True)\n",
    "\n",
    "test_dataset = torchvision.datasets.MNIST(root='../data/',\n",
    "                                          train=False, \n",
    "                                          transform=transforms.ToTensor())\n",
    "\n",
    "# Data loader\n",
    "\n",
    "test_loader = torch.utils.data.DataLoader(dataset=test_dataset,\n",
    "                                          batch_size=BATCH, \n",
    "                                          shuffle=False)"
   ]
  },
  {
   "cell_type": "code",
   "execution_count": 5,
   "metadata": {},
   "outputs": [
    {
     "name": "stderr",
     "output_type": "stream",
     "text": [
      "/home/ubuntu/night/lib/python3.5/site-packages/torch/nn/parallel/__init__.py:12: UserWarning: torch.nn.parallel.DistributedDataParallelCPU is deprecated, please use torch.nn.parallel.DistributedDataParallel instead.\n",
      "  warnings.warn(\"torch.nn.parallel.DistributedDataParallelCPU is deprecated, \"\n"
     ]
    }
   ],
   "source": [
    "if NODES > 1:\n",
    "    import os\n",
    "    import torch.distributed as dist\n",
    "    from torch.nn.parallel import DistributedDataParallelCPU as DDP\n",
    "\n",
    "    def setup(rank, world_size):\n",
    "        os.environ['MASTER_ADDR'] = '10.0.1.121'\n",
    "        os.environ['MASTER_PORT'] = '8890'\n",
    "        os.environ['GLOO_SOCKET_IFNAME'] = 'ens3'\n",
    "\n",
    "        # initialize the process group\n",
    "        dist.init_process_group(backend='gloo', \n",
    "                                init_method='env://', rank=rank, world_size=world_size)\n",
    "\n",
    "        # Explicitly setting seed to make sure that models created in two processes\n",
    "        # start from same random weights and biases.\n",
    "        torch.manual_seed(42)\n",
    "\n",
    "\n",
    "    def cleanup():\n",
    "        dist.destroy_process_group()\n",
    "\n",
    "    setup(rank = RANK, world_size = NODES)\n",
    "    \n",
    "    train_sampler = torch.utils.data.distributed.DistributedSampler(\n",
    "                train_dataset,\n",
    "                num_replicas = NODES,\n",
    "                rank = RANK\n",
    "            )\n",
    "    train_loader = torch.utils.data.DataLoader(dataset=train_dataset,\n",
    "                                               batch_size=BATCH,\n",
    "                                               sampler = train_sampler)\n",
    "    \n",
    "    model = DDP(RNN())\n",
    "    \n",
    "else:\n",
    "    train_loader = torch.utils.data.DataLoader(dataset=train_dataset,\n",
    "                                               batch_size=BATCH,\n",
    "                                               shuffle=True)\n",
    "    model = RNN()"
   ]
  },
  {
   "cell_type": "code",
   "execution_count": 6,
   "metadata": {},
   "outputs": [],
   "source": [
    "# Loss and optimizer\n",
    "criterion = nn.CrossEntropyLoss()\n",
    "optimizer = torch.optim.Adam(model.parameters(), lr=learning_rate)\n",
    "\n",
    "def train():\n",
    "    # Train the model\n",
    "    total_step = len(train_loader)\n",
    "    for epoch in range(EPOCHS):\n",
    "        for i, (images, labels) in enumerate(train_loader):\n",
    "            images = images.reshape(-1, sequence_length, input_size)\n",
    "            labels = labels\n",
    "\n",
    "            # Forward pass\n",
    "            outputs = model(images)\n",
    "            loss = criterion(outputs, labels)\n",
    "\n",
    "            # Backward and optimize\n",
    "            optimizer.zero_grad()\n",
    "            loss.backward()\n",
    "            optimizer.step()\n",
    "\n",
    "        print ('Epoch [{}/{}], Loss: {:.4f}' \n",
    "                       .format(epoch+1, EPOCHS, loss.item()))\n",
    "\n",
    "\n",
    "def test():\n",
    "    # Test the model\n",
    "    model.eval()\n",
    "    with torch.no_grad():\n",
    "        correct = 0\n",
    "        total = 0\n",
    "        for images, labels in test_loader:\n",
    "            images = images.reshape(-1, sequence_length, input_size)\n",
    "            labels = labels\n",
    "            outputs = model(images)\n",
    "            _, predicted = torch.max(outputs.data, 1)\n",
    "            total += labels.size(0)\n",
    "            correct += (predicted == labels).sum().item()\n",
    "\n",
    "        print('Test Accuracy of the model on the 10000 test images: {} %'.format(100 * correct / total)) "
   ]
  },
  {
   "cell_type": "code",
   "execution_count": 7,
   "metadata": {
    "scrolled": false
   },
   "outputs": [
    {
     "name": "stdout",
     "output_type": "stream",
     "text": [
      "Epoch [1/10], Loss: 1.2315\n",
      "Epoch [2/10], Loss: 0.9373\n",
      "Epoch [3/10], Loss: 0.5740\n",
      "Epoch [4/10], Loss: 0.3044\n",
      "Epoch [5/10], Loss: 0.0663\n",
      "Epoch [6/10], Loss: 0.0266\n",
      "Epoch [7/10], Loss: 0.0157\n",
      "Epoch [8/10], Loss: 0.1258\n",
      "Epoch [9/10], Loss: 0.0188\n",
      "Epoch [10/10], Loss: 0.0118\n"
     ]
    }
   ],
   "source": [
    "with torch.autograd.profiler.profile() as prof:\n",
    "    train()"
   ]
  },
  {
   "cell_type": "code",
   "execution_count": 8,
   "metadata": {},
   "outputs": [],
   "source": [
    "import helper\n",
    "name = 'ptorch_RNN_{}batch_node{}of{}_4CPUs'.format(BATCH,RANK+1,NODES)\n",
    "full_name = 'ptorch_csv/{}.csv'.format(name)\n",
    "\n",
    "helper.save_to_csv(prof.key_averages(),full_name)"
   ]
  },
  {
   "cell_type": "code",
   "execution_count": null,
   "metadata": {},
   "outputs": [],
   "source": []
  }
 ],
 "metadata": {
  "kernelspec": {
   "display_name": "Python 3",
   "language": "python",
   "name": "python3"
  },
  "language_info": {
   "codemirror_mode": {
    "name": "ipython",
    "version": 3
   },
   "file_extension": ".py",
   "mimetype": "text/x-python",
   "name": "python",
   "nbconvert_exporter": "python",
   "pygments_lexer": "ipython3",
   "version": "3.5.2"
  }
 },
 "nbformat": 4,
 "nbformat_minor": 4
}
