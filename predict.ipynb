{
 "cells": [
  {
   "cell_type": "code",
   "execution_count": null,
   "metadata": {},
   "outputs": [],
   "source": [
    "import pandas as pd\n",
    "import matplotlib.pyplot as plt\n",
    "from profiling.funs import load, numf_ls, batch_ls, hp_map"
   ]
  },
  {
   "cell_type": "code",
   "execution_count": null,
   "metadata": {},
   "outputs": [],
   "source": [
    "def corr(df, feat, title):\n",
    "    plt.scatter(df[feat], df['avg_time_us'])\n",
    "    plt.title(title, fontsize=14)\n",
    "    plt.xlabel(feat, fontsize=14)\n",
    "    plt.ylabel('avg_time (us)', fontsize=14)\n",
    "    plt.grid(True)\n",
    "    plt.show()\n",
    "\n",
    "def plot_numf(df_big, layer):\n",
    "    df = df_big[df_big['model_str']==layer]\n",
    "    for nodes in [1,2,3]:\n",
    "        for batch in batch_ls:\n",
    "            for hp in hp_map[layer]:\n",
    "                mask = (df['batch']==batch) & (df['hp']==hp) & (df['nodes']==nodes)\n",
    "                title = '{}, nodes: {}, batch: {}, hp: {}'.format(layer, nodes, batch, hp)\n",
    "                \n",
    "                corr(df[mask], 'numf', title)\n",
    "\n",
    "\n",
    "def plot_batch(df_big, layer):\n",
    "    df = df_big[df_big['model_str']==layer]\n",
    "    for nodes in [1,2,3]:\n",
    "        for numf in numf_ls:\n",
    "            for hp in hp_map[layer]:\n",
    "                mask = (df.nodes==nodes)&(df.numf==numf)&(df.hp==hp)\n",
    "                title = '{}, nodes: {}, numf: {}, hp: {}'.format(layer, nodes, numf, hp)\n",
    "                \n",
    "                corr(df[mask], 'batch', title)                \n",
    "\n",
    "def plot_nodes(df_big, layer):\n",
    "    df = df_big[df_big['model_str']==layer]\n",
    "    for numf in numf_ls:\n",
    "        for batch in batch_ls:\n",
    "            for hp in hp_map[layer]:\n",
    "                mask = (df.numf==numf)&(df.batch==batch)&(df.hp==hp)\n",
    "                title = '{}, numf: {}, batch: {}, hp: {}'.format(layer, numf, batch, hp)\n",
    "                \n",
    "                corr(df[mask], 'nodes', title)\n",
    "\n",
    "def plot(df, layer, feat):\n",
    "    mask = df['model_str']==layer\n",
    "    title = '{}, {}'.format(layer, feat)\n",
    "    corr(df[mask], feat, title)\n",
    "\n",
    "def give_train_data(df, layer):\n",
    "    mask = df['model_str'] == layer\n",
    "    df_ = df[mask].drop(columns='model_str')\n",
    "    \n",
    "    return df_.drop(columns='avg_time_us').to_numpy(), df_.avg_time_us.to_numpy()"
   ]
  },
  {
   "cell_type": "code",
   "execution_count": null,
   "metadata": {},
   "outputs": [],
   "source": [
    "df = load('datasets/ops_total.tflow')"
   ]
  },
  {
   "cell_type": "code",
   "execution_count": null,
   "metadata": {},
   "outputs": [],
   "source": [
    "X,y = give_train_data(df, 'conv2d')"
   ]
  },
  {
   "cell_type": "code",
   "execution_count": null,
   "metadata": {},
   "outputs": [],
   "source": [
    "from sklearn.preprocessing import PolynomialFeatures"
   ]
  },
  {
   "cell_type": "code",
   "execution_count": null,
   "metadata": {},
   "outputs": [],
   "source": [
    "X = PolynomialFeatures(degree=2).fit_transform(X)"
   ]
  },
  {
   "cell_type": "code",
   "execution_count": null,
   "metadata": {},
   "outputs": [],
   "source": [
    "from sklearn.linear_model import LinearRegression\n",
    "from sklearn import tree\n",
    "\n",
    "# Sperate train and test data\n",
    "from sklearn.model_selection import train_test_split\n",
    "X_train, X_test, y_train, y_test = train_test_split(X, y, test_size=0.2)"
   ]
  },
  {
   "cell_type": "code",
   "execution_count": null,
   "metadata": {},
   "outputs": [],
   "source": [
    "model = LinearRegression(fit_intercept=False)\n"
   ]
  },
  {
   "cell_type": "code",
   "execution_count": null,
   "metadata": {},
   "outputs": [],
   "source": [
    "model = LinearRegression()"
   ]
  },
  {
   "cell_type": "code",
   "execution_count": null,
   "metadata": {},
   "outputs": [],
   "source": [
    "model = tree.DecisionTreeRegressor()"
   ]
  },
  {
   "cell_type": "code",
   "execution_count": null,
   "metadata": {
    "scrolled": true
   },
   "outputs": [],
   "source": [
    "# 2. Use fit\n",
    "model.fit(X_train, y_train)\n",
    "# 3. Check the score\n",
    "model.score(X_test, y_test)"
   ]
  },
  {
   "cell_type": "code",
   "execution_count": null,
   "metadata": {},
   "outputs": [],
   "source": [
    "# plot prediction and actual data\n",
    "y_pred = model.predict(X_test) \n",
    "plt.plot(y_test, y_pred, '.')"
   ]
  },
  {
   "cell_type": "code",
   "execution_count": null,
   "metadata": {},
   "outputs": [],
   "source": [
    "import pandas as pd\n",
    "import numpy as np\n",
    "from sklearn import model_selection\n",
    "from sklearn.linear_model import LinearRegression\n",
    "from sklearn.linear_model import Ridge\n",
    "from sklearn.linear_model import Lasso\n",
    "from sklearn.linear_model import ElasticNet\n",
    "from sklearn.neighbors import KNeighborsRegressor\n",
    "from sklearn.tree import DecisionTreeRegressor\n",
    "from sklearn.svm import SVR\n",
    "from sklearn.ensemble import RandomForestRegressor\n",
    "from sklearn.metrics import r2_score\n",
    "from sklearn.model_selection import train_test_split\n",
    "from sklearn.metrics import mean_squared_error\n",
    "from math import sqrt\n",
    "import matplotlib.pyplot as plt"
   ]
  }
 ],
 "metadata": {
  "kernelspec": {
   "display_name": "Python 3",
   "language": "python",
   "name": "python3"
  },
  "language_info": {
   "codemirror_mode": {
    "name": "ipython",
    "version": 3
   },
   "file_extension": ".py",
   "mimetype": "text/x-python",
   "name": "python",
   "nbconvert_exporter": "python",
   "pygments_lexer": "ipython3",
   "version": "3.6.9"
  }
 },
 "nbformat": 4,
 "nbformat_minor": 4
}
