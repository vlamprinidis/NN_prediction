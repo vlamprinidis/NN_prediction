{
 "cells": [
  {
   "cell_type": "code",
   "execution_count": null,
   "metadata": {},
   "outputs": [],
   "source": [
    "fws = ['tflow','ptorch']"
   ]
  },
  {
   "cell_type": "code",
   "execution_count": null,
   "metadata": {},
   "outputs": [],
   "source": [
    "fw = fws[0]"
   ]
  },
  {
   "cell_type": "code",
   "execution_count": null,
   "metadata": {},
   "outputs": [],
   "source": [
    "import organise_test as org\n",
    "\n",
    "lenet1 = org.give_df('LeNet_1.{}'.format(fw))\n",
    "lenet5 = org.give_df('LeNet_5.{}'.format(fw))\n",
    "alexnet = org.give_df('AlexNet.{}'.format(fw))\n",
    "vgg11 = org.give_df('VGG_11.{}'.format(fw))"
   ]
  },
  {
   "cell_type": "code",
   "execution_count": null,
   "metadata": {},
   "outputs": [],
   "source": [
    "import sys\n",
    "sys.path.append('../')\n",
    "import lib\n",
    "if fw=='tflow':\n",
    "    import tflow as tools\n",
    "    import execute.tflow_models as tm\n",
    "else:\n",
    "    import ptorch as tools\n",
    "    import execute.ptorch_models as tm"
   ]
  },
  {
   "cell_type": "code",
   "execution_count": null,
   "metadata": {},
   "outputs": [],
   "source": [
    "tools"
   ]
  },
  {
   "cell_type": "code",
   "execution_count": null,
   "metadata": {
    "scrolled": true
   },
   "outputs": [],
   "source": [
    "Regs = [None]+[lib.Reg_N(fw,node) for node in [1,2,3]]"
   ]
  },
  {
   "cell_type": "code",
   "execution_count": null,
   "metadata": {},
   "outputs": [],
   "source": [
    "class Pred:\n",
    "    def __init__(self,Regs):\n",
    "        self.Regs = Regs    \n",
    "    \n",
    "    def create(self,the_df,Model):\n",
    "        def give(epochs,ds,numf,channels,batch,nodes):\n",
    "            M = Model()\n",
    "            model = M.create()\n",
    "            layers = tools.extract(model, 2, batch, numf, channels)\n",
    "            total = self.Regs[nodes].predict(layers, epochs, ds, batch)\n",
    "\n",
    "            return total\n",
    "        \n",
    "        def pred(x):\n",
    "            time = give(int(x['Epochs']),int(x['Dataset size']),int(x['Number of features']),\n",
    "                        int(x['Channels']),int(x['Batch size']),int(x['Nodes']))\n",
    "            return time\n",
    "            \n",
    "        the_df['Predicted time (s)'] = the_df.apply(pred,axis=1)\n",
    "        \n",
    "        return the_df"
   ]
  },
  {
   "cell_type": "code",
   "execution_count": null,
   "metadata": {},
   "outputs": [],
   "source": [
    "p = Pred(Regs)"
   ]
  },
  {
   "cell_type": "code",
   "execution_count": null,
   "metadata": {},
   "outputs": [],
   "source": [
    "p.create(lenet1,tm.LeNet_1)"
   ]
  },
  {
   "cell_type": "code",
   "execution_count": null,
   "metadata": {},
   "outputs": [],
   "source": [
    "p.create(lenet5,tm.LeNet_5)"
   ]
  },
  {
   "cell_type": "code",
   "execution_count": null,
   "metadata": {},
   "outputs": [],
   "source": [
    "p.create(alexnet,tm.AlexNet)"
   ]
  },
  {
   "cell_type": "code",
   "execution_count": null,
   "metadata": {},
   "outputs": [],
   "source": []
  }
 ],
 "metadata": {
  "kernelspec": {
   "display_name": "Python 3",
   "language": "python",
   "name": "python3"
  },
  "language_info": {
   "codemirror_mode": {
    "name": "ipython",
    "version": 3
   },
   "file_extension": ".py",
   "mimetype": "text/x-python",
   "name": "python",
   "nbconvert_exporter": "python",
   "pygments_lexer": "ipython3",
   "version": "3.6.9"
  }
 },
 "nbformat": 4,
 "nbformat_minor": 4
}
