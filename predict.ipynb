{
 "cells": [
  {
   "cell_type": "code",
   "execution_count": 1,
   "metadata": {
    "scrolled": true
   },
   "outputs": [
    {
     "name": "stdout",
     "output_type": "stream",
     "text": [
      "TensorFlow\n",
      "conv1d\n",
      "Model: RandomForestRegressor()\n",
      "R^2 Score: 0.9790123980640055\n",
      "Root Mean Squared Error: 0.24798687966908517 ms\n",
      "\n",
      "conv2d\n",
      "Model: RandomForestRegressor()\n",
      "R^2 Score: 0.998552187381041\n",
      "Root Mean Squared Error: 6.092837144863068 ms\n",
      "\n",
      "avg1d\n",
      "Model: RandomForestRegressor()\n",
      "R^2 Score: 0.9646969669803838\n",
      "Root Mean Squared Error: 0.07819420130028991 ms\n",
      "\n",
      "avg2d\n",
      "Model: RandomForestRegressor()\n",
      "R^2 Score: 0.9981761127722744\n",
      "Root Mean Squared Error: 3.7106836448028626 ms\n",
      "\n",
      "max1d\n",
      "Model: RandomForestRegressor()\n",
      "R^2 Score: 0.9866531953049282\n",
      "Root Mean Squared Error: 0.07893148761416431 ms\n",
      "\n",
      "max2d\n",
      "Model: RandomForestRegressor()\n",
      "R^2 Score: 0.9848965415693467\n",
      "Root Mean Squared Error: 4.713154512924368 ms\n",
      "\n",
      "dense\n",
      "Model: RandomForestRegressor()\n",
      "R^2 Score: 0.9897332220190377\n",
      "Root Mean Squared Error: 24.636871454299964 ms\n",
      "\n",
      "norm1d\n",
      "Model: RandomForestRegressor()\n",
      "R^2 Score: 0.942339569673102\n",
      "Root Mean Squared Error: 0.11165783306039954 ms\n",
      "\n",
      "norm2d\n",
      "Model: RandomForestRegressor()\n",
      "R^2 Score: 0.931945192106844\n",
      "Root Mean Squared Error: 43.085370081394984 ms\n",
      "\n",
      "relu1d\n",
      "Model: RandomForestRegressor()\n",
      "R^2 Score: 0.7852799313555823\n",
      "Root Mean Squared Error: 0.003560808196799589 ms\n",
      "\n",
      "relu2d\n",
      "Model: RandomForestRegressor()\n",
      "R^2 Score: 0.8510223488066848\n",
      "Root Mean Squared Error: 0.15326820948204653 ms\n",
      "\n",
      "tanh1d\n",
      "Model: RandomForestRegressor()\n",
      "R^2 Score: 0.9379643517854752\n",
      "Root Mean Squared Error: 0.01630797339748285 ms\n",
      "\n",
      "tanh2d\n",
      "Model: RandomForestRegressor()\n",
      "R^2 Score: 0.9656230045565194\n",
      "Root Mean Squared Error: 0.46579113293350616 ms\n",
      "\n",
      "drop1d\n",
      "Model: RandomForestRegressor()\n",
      "R^2 Score: 0.9862577014461411\n",
      "Root Mean Squared Error: 0.04007628315504442 ms\n",
      "\n",
      "drop2d\n",
      "Model: RandomForestRegressor()\n",
      "R^2 Score: 0.9970728958143421\n",
      "Root Mean Squared Error: 0.7636057238427972 ms\n",
      "\n",
      "PyTorch\n",
      "conv1d\n",
      "Model: RandomForestRegressor()\n",
      "R^2 Score: 0.48497657930791016\n",
      "Root Mean Squared Error: 1.7816254795196556 ms\n",
      "\n",
      "conv2d\n",
      "Model: RandomForestRegressor()\n",
      "R^2 Score: 0.9785120624174748\n",
      "Root Mean Squared Error: 6.060934377428007 ms\n",
      "\n",
      "avg1d\n",
      "Model: RandomForestRegressor()\n",
      "R^2 Score: 0.26506970118796336\n",
      "Root Mean Squared Error: 0.16581092536637043 ms\n",
      "\n",
      "avg2d\n",
      "Model: RandomForestRegressor()\n",
      "R^2 Score: 0.9487425164859691\n",
      "Root Mean Squared Error: 4.397561289661971 ms\n",
      "\n",
      "max1d\n",
      "Model: RandomForestRegressor()\n",
      "R^2 Score: 0.6327368667540356\n",
      "Root Mean Squared Error: 0.19460061064054826 ms\n",
      "\n",
      "max2d\n",
      "Model: RandomForestRegressor()\n",
      "R^2 Score: 0.7185061305849338\n",
      "Root Mean Squared Error: 10.64158418872625 ms\n",
      "\n",
      "dense\n",
      "Model: RandomForestRegressor()\n",
      "R^2 Score: 0.8662695617987257\n",
      "Root Mean Squared Error: 0.6433035869842441 ms\n",
      "\n",
      "norm1d\n",
      "Model: RandomForestRegressor()\n",
      "R^2 Score: 0.9486281472889506\n",
      "Root Mean Squared Error: 0.1136612004764135 ms\n",
      "\n",
      "norm2d\n",
      "Model: RandomForestRegressor()\n",
      "R^2 Score: 0.9801771142694902\n",
      "Root Mean Squared Error: 2.0486123169927857 ms\n",
      "\n",
      "relu1d\n",
      "Model: RandomForestRegressor()\n",
      "R^2 Score: 0.6905869660837372\n",
      "Root Mean Squared Error: 0.06458870834207918 ms\n",
      "\n",
      "relu2d\n",
      "Model: RandomForestRegressor()\n",
      "R^2 Score: 0.6865756630007963\n",
      "Root Mean Squared Error: 0.8567365431578321 ms\n",
      "\n",
      "tanh1d\n",
      "Model: RandomForestRegressor()\n",
      "R^2 Score: 0.6153528219242147\n",
      "Root Mean Squared Error: 0.1263305852271703 ms\n",
      "\n",
      "tanh2d\n",
      "Model: RandomForestRegressor()\n",
      "R^2 Score: 0.8933878058390667\n",
      "Root Mean Squared Error: 1.454302037849574 ms\n",
      "\n",
      "drop1d\n",
      "Model: RandomForestRegressor()\n",
      "R^2 Score: 0.48057724139224645\n",
      "Root Mean Squared Error: 0.19211767944123015 ms\n",
      "\n",
      "drop2d\n",
      "Model: RandomForestRegressor()\n",
      "R^2 Score: 0.9365662091733324\n",
      "Root Mean Squared Error: 0.4873987381836248 ms\n",
      "\n",
      "flatten1d\n",
      "Model: RandomForestRegressor()\n",
      "R^2 Score: 0.650949319777837\n",
      "Root Mean Squared Error: 0.0008094776553361827 ms\n",
      "\n",
      "flatten2d\n",
      "Model: RandomForestRegressor()\n",
      "R^2 Score: 0.9247244900162285\n",
      "Root Mean Squared Error: 0.0008083794033064575 ms\n",
      "\n"
     ]
    }
   ],
   "source": [
    "from predictor import tflow_time, torch_time"
   ]
  },
  {
   "cell_type": "code",
   "execution_count": 2,
   "metadata": {},
   "outputs": [],
   "source": [
    "import tflow_feature_extractor as tf_fx\n",
    "import torch_feature_extractor as pt_fx"
   ]
  },
  {
   "cell_type": "code",
   "execution_count": 3,
   "metadata": {},
   "outputs": [],
   "source": [
    "import sys\n",
    "sys.path.append('../')"
   ]
  },
  {
   "cell_type": "code",
   "execution_count": 4,
   "metadata": {},
   "outputs": [],
   "source": [
    "import prof_run.tflow_models as TF_Models\n",
    "import prof_run.torch_models as PT_Models\n",
    "TF_Model = TF_Models.LeNet5()\n",
    "tf_model = TF_Model.create()\n",
    "pt_model = PT_Models.LeNet5().model\n",
    "\n",
    "batch = 32\n",
    "channels = 1\n",
    "epochs = 5\n",
    "ds = 60000\n",
    "steps = epochs*ds//batch\n",
    "dim = 2"
   ]
  },
  {
   "cell_type": "code",
   "execution_count": 5,
   "metadata": {},
   "outputs": [],
   "source": [
    "numf = 28\n",
    "tf_feat = tf_fx.extract(tf_model, dim, batch, numf, channels)\n",
    "numf = 32\n",
    "pt_feat = pt_fx.extract(pt_model, dim, batch, numf, channels)"
   ]
  },
  {
   "cell_type": "code",
   "execution_count": 6,
   "metadata": {
    "scrolled": true
   },
   "outputs": [
    {
     "data": {
      "text/plain": [
       "[{'name': 'Conv2D',\n",
       "  'batch': 32,\n",
       "  'numf': 28,\n",
       "  'dim': 2,\n",
       "  'channels': 1,\n",
       "  'input_shape': TensorShape([32, 28, 28, 1]),\n",
       "  'output_shape': TensorShape([32, 24, 24, 6]),\n",
       "  'filters': 6,\n",
       "  'kernel': (5, 5),\n",
       "  'stride': (1, 1)},\n",
       " {'name': 'tanh',\n",
       "  'batch': 32,\n",
       "  'numf': 24,\n",
       "  'dim': 2,\n",
       "  'channels': 6,\n",
       "  'input_shape': TensorShape([32, 24, 24, 6]),\n",
       "  'output_shape': TensorShape([32, 24, 24, 6])},\n",
       " {'name': 'AveragePooling2D',\n",
       "  'batch': 32,\n",
       "  'numf': 24,\n",
       "  'dim': 2,\n",
       "  'channels': 6,\n",
       "  'input_shape': TensorShape([32, 24, 24, 6]),\n",
       "  'output_shape': TensorShape([32, 12, 12, 6]),\n",
       "  'pool': (2, 2),\n",
       "  'stride': (2, 2)},\n",
       " {'name': 'Conv2D',\n",
       "  'batch': 32,\n",
       "  'numf': 12,\n",
       "  'dim': 2,\n",
       "  'channels': 6,\n",
       "  'input_shape': TensorShape([32, 12, 12, 6]),\n",
       "  'output_shape': TensorShape([32, 8, 8, 16]),\n",
       "  'filters': 16,\n",
       "  'kernel': (5, 5),\n",
       "  'stride': (1, 1)},\n",
       " {'name': 'tanh',\n",
       "  'batch': 32,\n",
       "  'numf': 8,\n",
       "  'dim': 2,\n",
       "  'channels': 16,\n",
       "  'input_shape': TensorShape([32, 8, 8, 16]),\n",
       "  'output_shape': TensorShape([32, 8, 8, 16])},\n",
       " {'name': 'AveragePooling2D',\n",
       "  'batch': 32,\n",
       "  'numf': 8,\n",
       "  'dim': 2,\n",
       "  'channels': 16,\n",
       "  'input_shape': TensorShape([32, 8, 8, 16]),\n",
       "  'output_shape': TensorShape([32, 4, 4, 16]),\n",
       "  'pool': (2, 2),\n",
       "  'stride': (2, 2)},\n",
       " {'name': 'Flatten',\n",
       "  'batch': 32,\n",
       "  'numf': 4,\n",
       "  'dim': 2,\n",
       "  'channels': 16,\n",
       "  'input_shape': TensorShape([32, 4, 4, 16]),\n",
       "  'output_shape': TensorShape([32, 256])},\n",
       " {'name': 'Dense',\n",
       "  'batch': 32,\n",
       "  'numf': 256,\n",
       "  'dim': 1,\n",
       "  'channels': 1,\n",
       "  'input_shape': TensorShape([32, 256]),\n",
       "  'output_shape': TensorShape([32, 120]),\n",
       "  'units': 120},\n",
       " {'name': 'tanh',\n",
       "  'batch': 32,\n",
       "  'numf': 120,\n",
       "  'dim': 1,\n",
       "  'channels': 1,\n",
       "  'input_shape': TensorShape([32, 120]),\n",
       "  'output_shape': TensorShape([32, 120])},\n",
       " {'name': 'Flatten',\n",
       "  'batch': 32,\n",
       "  'numf': 120,\n",
       "  'dim': 1,\n",
       "  'channels': 1,\n",
       "  'input_shape': TensorShape([32, 120]),\n",
       "  'output_shape': TensorShape([32, 120])},\n",
       " {'name': 'Dense',\n",
       "  'batch': 32,\n",
       "  'numf': 120,\n",
       "  'dim': 1,\n",
       "  'channels': 1,\n",
       "  'input_shape': TensorShape([32, 120]),\n",
       "  'output_shape': TensorShape([32, 84]),\n",
       "  'units': 84},\n",
       " {'name': 'tanh',\n",
       "  'batch': 32,\n",
       "  'numf': 84,\n",
       "  'dim': 1,\n",
       "  'channels': 1,\n",
       "  'input_shape': TensorShape([32, 84]),\n",
       "  'output_shape': TensorShape([32, 84])},\n",
       " {'name': 'Flatten',\n",
       "  'batch': 32,\n",
       "  'numf': 84,\n",
       "  'dim': 1,\n",
       "  'channels': 1,\n",
       "  'input_shape': TensorShape([32, 84]),\n",
       "  'output_shape': TensorShape([32, 84])},\n",
       " {'name': 'Dense',\n",
       "  'batch': 32,\n",
       "  'numf': 84,\n",
       "  'dim': 1,\n",
       "  'channels': 1,\n",
       "  'input_shape': TensorShape([32, 84]),\n",
       "  'output_shape': TensorShape([32, 10]),\n",
       "  'units': 10}]"
      ]
     },
     "execution_count": 6,
     "metadata": {},
     "output_type": "execute_result"
    }
   ],
   "source": [
    "tf_feat"
   ]
  },
  {
   "cell_type": "code",
   "execution_count": 7,
   "metadata": {
    "scrolled": true
   },
   "outputs": [
    {
     "data": {
      "text/plain": [
       "[{'name': 'Conv2d',\n",
       "  'input_shape': [32, 1, 32, 32],\n",
       "  'batch': 32,\n",
       "  'dim': 2,\n",
       "  'channels': 1,\n",
       "  'numf': 32,\n",
       "  'filters': 6,\n",
       "  'kernel': (5, 5),\n",
       "  'stride': (1, 1)},\n",
       " {'name': 'Tanh',\n",
       "  'input_shape': [32, 6, 28, 28],\n",
       "  'batch': 32,\n",
       "  'dim': 2,\n",
       "  'channels': 6,\n",
       "  'numf': 28},\n",
       " {'name': 'AvgPool2d',\n",
       "  'input_shape': [32, 6, 28, 28],\n",
       "  'batch': 32,\n",
       "  'dim': 2,\n",
       "  'channels': 6,\n",
       "  'numf': 28,\n",
       "  'pool': 2,\n",
       "  'stride': 2},\n",
       " {'name': 'Conv2d',\n",
       "  'input_shape': [32, 6, 14, 14],\n",
       "  'batch': 32,\n",
       "  'dim': 2,\n",
       "  'channels': 6,\n",
       "  'numf': 14,\n",
       "  'filters': 16,\n",
       "  'kernel': (5, 5),\n",
       "  'stride': (1, 1)},\n",
       " {'name': 'Tanh',\n",
       "  'input_shape': [32, 16, 10, 10],\n",
       "  'batch': 32,\n",
       "  'dim': 2,\n",
       "  'channels': 16,\n",
       "  'numf': 10},\n",
       " {'name': 'AvgPool2d',\n",
       "  'input_shape': [32, 16, 10, 10],\n",
       "  'batch': 32,\n",
       "  'dim': 2,\n",
       "  'channels': 16,\n",
       "  'numf': 10,\n",
       "  'pool': 2,\n",
       "  'stride': 2},\n",
       " {'name': 'Conv2d',\n",
       "  'input_shape': [32, 16, 5, 5],\n",
       "  'batch': 32,\n",
       "  'dim': 2,\n",
       "  'channels': 16,\n",
       "  'numf': 5,\n",
       "  'filters': 120,\n",
       "  'kernel': (5, 5),\n",
       "  'stride': (1, 1)},\n",
       " {'name': 'Tanh',\n",
       "  'input_shape': [32, 120, 1, 1],\n",
       "  'batch': 32,\n",
       "  'dim': 2,\n",
       "  'channels': 120,\n",
       "  'numf': 1},\n",
       " {'name': 'Flatten',\n",
       "  'input_shape': [32, 120, 1, 1],\n",
       "  'batch': 32,\n",
       "  'dim': 2,\n",
       "  'channels': 120,\n",
       "  'numf': 1},\n",
       " {'name': 'Linear',\n",
       "  'input_shape': [32, 120],\n",
       "  'batch': 32,\n",
       "  'dim': 1,\n",
       "  'channels': 1,\n",
       "  'numf': 120,\n",
       "  'units': 84},\n",
       " {'name': 'Tanh',\n",
       "  'input_shape': [32, 84],\n",
       "  'batch': 32,\n",
       "  'dim': 1,\n",
       "  'channels': 1,\n",
       "  'numf': 84},\n",
       " {'name': 'Linear',\n",
       "  'input_shape': [32, 84],\n",
       "  'batch': 32,\n",
       "  'dim': 1,\n",
       "  'channels': 1,\n",
       "  'numf': 84,\n",
       "  'units': 10}]"
      ]
     },
     "execution_count": 7,
     "metadata": {},
     "output_type": "execute_result"
    }
   ],
   "source": [
    "pt_feat"
   ]
  },
  {
   "cell_type": "code",
   "execution_count": 8,
   "metadata": {},
   "outputs": [],
   "source": [
    "nodes = 3"
   ]
  },
  {
   "cell_type": "code",
   "execution_count": 9,
   "metadata": {
    "scrolled": true
   },
   "outputs": [],
   "source": [
    "tf_ms = steps*tflow_time(tf_feat,nodes)/1000"
   ]
  },
  {
   "cell_type": "code",
   "execution_count": 10,
   "metadata": {},
   "outputs": [
    {
     "data": {
      "text/plain": [
       "116.11953865371095"
      ]
     },
     "execution_count": 10,
     "metadata": {},
     "output_type": "execute_result"
    }
   ],
   "source": [
    "tf_ms/1000"
   ]
  },
  {
   "cell_type": "code",
   "execution_count": 11,
   "metadata": {},
   "outputs": [],
   "source": [
    "pt_ms = steps*torch_time(pt_feat,nodes)/1000"
   ]
  },
  {
   "cell_type": "code",
   "execution_count": 12,
   "metadata": {},
   "outputs": [
    {
     "data": {
      "text/plain": [
       "34.89075609082032"
      ]
     },
     "execution_count": 12,
     "metadata": {},
     "output_type": "execute_result"
    }
   ],
   "source": [
    "pt_ms/1000"
   ]
  },
  {
   "cell_type": "code",
   "execution_count": null,
   "metadata": {},
   "outputs": [],
   "source": [
    "import run_on_nodes as run"
   ]
  },
  {
   "cell_type": "code",
   "execution_count": 15,
   "metadata": {},
   "outputs": [],
   "source": [
    "parts = ['/home/ubuntu/.env/bin/python3', '/home/ubuntu/prof_run']"
   ]
  },
  {
   "cell_type": "code",
   "execution_count": null,
   "metadata": {},
   "outputs": [],
   "source": [
    "cmd = '/home/ubuntu/.env/bin/python3 /home/ubuntu/prof_run/tflow_lenet.py -nodes {} -batch {} -epochs {}'.format(nodes, batch, epochs)"
   ]
  },
  {
   "cell_type": "code",
   "execution_count": 16,
   "metadata": {},
   "outputs": [],
   "source": [
    "cmd = '{} {}/tflow_lenet.py -nodes {} -batch {} -epochs {}'.format(parts[0], parts[1], nodes, batch, epochs)"
   ]
  },
  {
   "cell_type": "code",
   "execution_count": 17,
   "metadata": {},
   "outputs": [
    {
     "name": "stdout",
     "output_type": "stream",
     "text": [
      "RUNNING CMD:\n",
      "/home/ubuntu/.env/bin/python3 /home/ubuntu/prof_run/tflow_lenet.py -nodes 3 -batch 32 -epochs 5 > pred.out 2> pred.err\n",
      "RAN ON FIRST NODE\n",
      "RAN ON SECOND NODE\n",
      "RAN ON THIRD NODE\n",
      "FIRST NODE END\n",
      "SECOND NODE END\n",
      "THIRD NODE END\n"
     ]
    },
    {
     "data": {
      "text/plain": [
       "True"
      ]
     },
     "execution_count": 17,
     "metadata": {},
     "output_type": "execute_result"
    }
   ],
   "source": [
    "run.go(cmd + ' > tflow_lenet.out 2> tflow_lenet.err', nodes=nodes)"
   ]
  },
  {
   "cell_type": "code",
   "execution_count": 18,
   "metadata": {},
   "outputs": [],
   "source": [
    "cmd = '{} {}/torch_lenet.py -nodes {} -batch {} -epochs {}'.format(parts[0], parts[1], nodes, batch, epochs)"
   ]
  },
  {
   "cell_type": "code",
   "execution_count": 19,
   "metadata": {},
   "outputs": [
    {
     "name": "stdout",
     "output_type": "stream",
     "text": [
      "RUNNING CMD:\n",
      "/home/ubuntu/.env/bin/python3 /home/ubuntu/prof_run/torch_lenet.py -nodes 3 -batch 32 -epochs 5 > torch_lenet.out 2> torch_lenet.err\n",
      "RAN ON FIRST NODE\n",
      "RAN ON SECOND NODE\n",
      "RAN ON THIRD NODE\n",
      "FIRST NODE END\n",
      "SECOND NODE END\n",
      "THIRD NODE END\n"
     ]
    },
    {
     "data": {
      "text/plain": [
       "True"
      ]
     },
     "execution_count": 19,
     "metadata": {},
     "output_type": "execute_result"
    }
   ],
   "source": [
    "run.go(cmd + ' > torch_lenet.out 2> torch_lenet.err',nodes=nodes)"
   ]
  },
  {
   "cell_type": "code",
   "execution_count": null,
   "metadata": {},
   "outputs": [],
   "source": []
  }
 ],
 "metadata": {
  "kernelspec": {
   "display_name": "Python 3",
   "language": "python",
   "name": "python3"
  },
  "language_info": {
   "codemirror_mode": {
    "name": "ipython",
    "version": 3
   },
   "file_extension": ".py",
   "mimetype": "text/x-python",
   "name": "python",
   "nbconvert_exporter": "python",
   "pygments_lexer": "ipython3",
   "version": "3.6.9"
  }
 },
 "nbformat": 4,
 "nbformat_minor": 4
}
