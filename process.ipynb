{
 "cells": [
  {
   "cell_type": "code",
   "execution_count": null,
   "metadata": {},
   "outputs": [],
   "source": [
    "from profiling.funs import load, my_key, _save\n",
    "import pandas as pd"
   ]
  },
  {
   "cell_type": "code",
   "execution_count": null,
   "metadata": {},
   "outputs": [],
   "source": [
    "def check(keywords):\n",
    "    def find(x):\n",
    "        return any(\n",
    "            [word in x for word in keywords]\n",
    "        )\n",
    "    return find"
   ]
  },
  {
   "cell_type": "markdown",
   "metadata": {},
   "source": [
    "# TensorFlow"
   ]
  },
  {
   "cell_type": "code",
   "execution_count": null,
   "metadata": {},
   "outputs": [],
   "source": [
    "key_ops = ['sequential', 'gradient_tape', 'categorical_crossentropy', 'SGD']\n",
    "key_typs = ['Dataset']\n",
    "\n",
    "def no_idle(df):\n",
    "    return df[~df['Operation'].apply(check(['IDLE'])) ]\n",
    "\n",
    "def refresh(df):\n",
    "    df = no_idle(df)\n",
    "    df = df.drop(columns=['Total self-time on Host (%)', 'Avg. time (us)', 'Total time (us)'])\n",
    "    \n",
    "    return df\n",
    "\n",
    "def total_op(df, words):\n",
    "    mask = df['Operation'].apply(check(words))\n",
    "\n",
    "    return df[mask]['Avg. self-time (us)'].sum()\n",
    "\n",
    "def from_set(fz):\n",
    "    return {name:value for (name,value) in fz}\n",
    "\n",
    "def extract_my_names(key, value):\n",
    "    dct=from_set(key)\n",
    "    num=total_op(value, dct['model_str'].upper())\n",
    "    dct['avg_time_us'] = num\n",
    "    \n",
    "    return dct"
   ]
  },
  {
   "cell_type": "code",
   "execution_count": null,
   "metadata": {},
   "outputs": [],
   "source": [
    "def save_ops_total(num):\n",
    "    df_dict = load('profiling/results/data_{}.tflow'.format(num))\n",
    "    biglist=[extract_my_names(key, value) for key,value in df_dict.items()]\n",
    "    data=pd.DataFrame(data=biglist)\n",
    "    \n",
    "    _save(data,'datasets/ops_total_{}.tflow'.format(num))"
   ]
  },
  {
   "cell_type": "code",
   "execution_count": null,
   "metadata": {},
   "outputs": [],
   "source": [
    "save_ops_total(1)"
   ]
  },
  {
   "cell_type": "code",
   "execution_count": null,
   "metadata": {},
   "outputs": [],
   "source": [
    "save_ops_total(2)"
   ]
  },
  {
   "cell_type": "markdown",
   "metadata": {},
   "source": [
    "# PyTorch"
   ]
  },
  {
   "cell_type": "code",
   "execution_count": null,
   "metadata": {},
   "outputs": [],
   "source": []
  },
  {
   "cell_type": "code",
   "execution_count": null,
   "metadata": {},
   "outputs": [],
   "source": []
  },
  {
   "cell_type": "code",
   "execution_count": null,
   "metadata": {},
   "outputs": [],
   "source": []
  }
 ],
 "metadata": {
  "kernelspec": {
   "display_name": "Python 3",
   "language": "python",
   "name": "python3"
  },
  "language_info": {
   "codemirror_mode": {
    "name": "ipython",
    "version": 3
   },
   "file_extension": ".py",
   "mimetype": "text/x-python",
   "name": "python",
   "nbconvert_exporter": "python",
   "pygments_lexer": "ipython3",
   "version": "3.6.9"
  }
 },
 "nbformat": 4,
 "nbformat_minor": 4
}
