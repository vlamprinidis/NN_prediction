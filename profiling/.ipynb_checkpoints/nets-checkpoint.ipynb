{
 "cells": [
  {
   "cell_type": "code",
   "execution_count": null,
   "metadata": {
    "scrolled": true
   },
   "outputs": [],
   "source": [
    "import importlib\n",
    "import nets #import the module here, so that it can be reloaded.\n",
    "importlib.reload(nets)"
   ]
  },
  {
   "cell_type": "code",
   "execution_count": null,
   "metadata": {},
   "outputs": [],
   "source": [
    "import sys\n",
    "import os\n",
    "import numpy as np\n",
    "\n",
    "# Tensorflow\n",
    "\n",
    "import tensorflow as  tf\n",
    "from tensorflow.keras import Model\n",
    "from tensorflow.keras.models import Sequential\n",
    "\n",
    "from tensorflow.keras.layers import AveragePooling1D, AveragePooling2D, Flatten, Conv1D, Conv2D, Dense, Dropout, ELU, Embedding, Flatten, GaussianDropout, GaussianNoise, MaxPool1D, MaxPool2D, ReLU, Softmax\n",
    "\n",
    "def ran2d(sz_dataset=60000):\n",
    "    x = np.random.rand(sz_dataset, 32, 32)*255.0\n",
    "\n",
    "    y = np.random.randint(0, 10, sz_dataset)\n",
    "\n",
    "    rows, cols = 32, 32\n",
    "\n",
    "    x = x.reshape(x.shape[0], rows, cols, 1)\n",
    "\n",
    "    input_shape = (rows, cols, 1)\n",
    "\n",
    "    x = x.astype('float32')\n",
    "\n",
    "    # one-hot encode the labels\n",
    "    y = tf.keras.utils.to_categorical(y, 10)\n",
    "    \n",
    "    return x,y,input_shape"
   ]
  },
  {
   "cell_type": "code",
   "execution_count": null,
   "metadata": {},
   "outputs": [],
   "source": [
    "\n",
    "\n",
    "# train_ds = tf.data.Dataset.from_tensor_slices(\n",
    "# (x_train, y_train)).shuffle(10000).batch(32)\n",
    "\n",
    "model = Sequential()\n",
    "model.add(Conv2D(filters = 32, \n",
    "           kernel_size = 5)\n",
    "\n",
    "opt = tf.keras.optimizers.SGD(lr=0.1, momentum=0.0, decay=0.0)\n",
    "    \n",
    "model.compile(loss='categorical_crossentropy', optimizer=opt,\n",
    "             metrics=['accuracy'])\n",
    "\n",
    "    "
   ]
  },
  {
   "cell_type": "code",
   "execution_count": null,
   "metadata": {},
   "outputs": [],
   "source": [
    "logdir='../../tf_logs'\n",
    "os.system('rm -rf {}'.format(logdir))\n",
    "# tb_call = tf.keras.callbacks.TensorBoard(log_dir=logdir, write_graph=True, update_freq='batch',\n",
    "#                                                   profile_batch=(1,20)\n",
    "#                                         )\n",
    "tb_call = tf.keras.callbacks.TensorBoard(log_dir=logdir)"
   ]
  },
  {
   "cell_type": "code",
   "execution_count": null,
   "metadata": {},
   "outputs": [],
   "source": [
    "x_train, y_train, input_shape = ran2d()"
   ]
  },
  {
   "cell_type": "code",
   "execution_count": null,
   "metadata": {},
   "outputs": [],
   "source": [
    "model = Sequential()\n",
    "model.add(Conv2D(filters=32, \n",
    "           kernel_size=5))\n",
    "\n",
    "model.add(Flatten())\n",
    "\n",
    "model.add(Dense(units=10))\n",
    "\n",
    "opt = tf.keras.optimizers.SGD(lr=0.1, momentum=0.0, decay=0.0)\n",
    "    \n",
    "model.compile(loss='categorical_crossentropy', optimizer=opt,\n",
    "             metrics=['accuracy'])"
   ]
  },
  {
   "cell_type": "code",
   "execution_count": null,
   "metadata": {},
   "outputs": [],
   "source": [
    "model.fit(x_train, y_train, batch_size = 64,\n",
    "            epochs=1, callbacks = [tb_call])"
   ]
  },
  {
   "cell_type": "code",
   "execution_count": null,
   "metadata": {},
   "outputs": [],
   "source": []
  }
 ],
 "metadata": {
  "kernelspec": {
   "display_name": "Python 3",
   "language": "python",
   "name": "python3"
  },
  "language_info": {
   "codemirror_mode": {
    "name": "ipython",
    "version": 3
   },
   "file_extension": ".py",
   "mimetype": "text/x-python",
   "name": "python",
   "nbconvert_exporter": "python",
   "pygments_lexer": "ipython3",
   "version": "3.6.9"
  }
 },
 "nbformat": 4,
 "nbformat_minor": 4
}
