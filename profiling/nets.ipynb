{
 "cells": [
  {
   "cell_type": "code",
   "execution_count": null,
   "metadata": {
    "scrolled": true
   },
   "outputs": [],
   "source": [
    "import importlib\n",
    "import nets #import the module here, so that it can be reloaded.\n",
    "importlib.reload(nets)"
   ]
  },
  {
   "cell_type": "code",
   "execution_count": 1,
   "metadata": {},
   "outputs": [],
   "source": [
    "import sys\n",
    "import os\n",
    "import numpy as np\n",
    "\n",
    "# Tensorflow\n",
    "\n",
    "import tensorflow as  tf\n",
    "from tensorflow.keras import Model\n",
    "from tensorflow.keras.models import Sequential\n",
    "\n",
    "from tensorflow.keras.layers import AveragePooling1D, AveragePooling2D, Flatten, Conv1D, Conv2D, Dense, Dropout, ELU, Embedding, Flatten, GaussianDropout, GaussianNoise, MaxPool1D, MaxPool2D, ReLU, Softmax\n",
    "\n",
    "def ran2d(sz_dataset=60000):\n",
    "    x = np.random.rand(sz_dataset, 32, 32)*255.0\n",
    "\n",
    "    y = np.random.randint(0, 10, sz_dataset)\n",
    "\n",
    "    rows, cols = 32, 32\n",
    "\n",
    "    x = x.reshape(x.shape[0], rows, cols, 1)\n",
    "\n",
    "    input_shape = (rows, cols, 1)\n",
    "\n",
    "    x = x.astype('float32')\n",
    "\n",
    "    # one-hot encode the labels\n",
    "    y = tf.keras.utils.to_categorical(y, 10)\n",
    "    \n",
    "    return x,y,input_shape"
   ]
  },
  {
   "cell_type": "code",
   "execution_count": 2,
   "metadata": {},
   "outputs": [],
   "source": [
    "logdir='../../tf_logs'\n",
    "os.system('rm -rf {}'.format(logdir))\n",
    "tb_call = tf.keras.callbacks.TensorBoard(log_dir=logdir, write_graph=True, update_freq='batch',\n",
    "                                                  profile_batch=(1,20)\n",
    "                                        )\n",
    "# tb_call = tf.keras.callbacks.TensorBoard(log_dir=logdir)"
   ]
  },
  {
   "cell_type": "code",
   "execution_count": 3,
   "metadata": {},
   "outputs": [],
   "source": [
    "x_train, y_train, input_shape = ran2d()"
   ]
  },
  {
   "cell_type": "code",
   "execution_count": 4,
   "metadata": {},
   "outputs": [],
   "source": [
    "model = Sequential()\n",
    "model.add(Conv2D(filters=32, \n",
    "           kernel_size=5))\n",
    "\n",
    "model.add(Flatten())\n",
    "\n",
    "model.add(Dense(units=10))\n",
    "\n",
    "opt = tf.keras.optimizers.SGD()\n",
    "    \n",
    "model.compile(loss='categorical_crossentropy', optimizer=opt,\n",
    "             metrics=['accuracy'])"
   ]
  },
  {
   "cell_type": "code",
   "execution_count": 5,
   "metadata": {},
   "outputs": [
    {
     "name": "stdout",
     "output_type": "stream",
     "text": [
      "Epoch 1/2\n",
      " 16/938 [..............................] - ETA: 9s - loss: 5.0210 - accuracy: 0.0938WARNING:tensorflow:From /home/vlassis/Desktop/Diploma/wspace/.night/lib/python3.6/site-packages/tensorflow/python/ops/summary_ops_v2.py:1277: stop (from tensorflow.python.eager.profiler) is deprecated and will be removed after 2020-07-01.\n",
      "Instructions for updating:\n",
      "use `tf.profiler.experimental.stop` instead.\n",
      "938/938 [==============================] - 10s 10ms/step - loss: 3.3632 - accuracy: 0.1006\n",
      "Epoch 2/2\n",
      "938/938 [==============================] - 10s 10ms/step - loss: 3.2618 - accuracy: 0.1002\n"
     ]
    },
    {
     "data": {
      "text/plain": [
       "<tensorflow.python.keras.callbacks.History at 0x7ff662cc9ef0>"
      ]
     },
     "execution_count": 5,
     "metadata": {},
     "output_type": "execute_result"
    }
   ],
   "source": [
    "model.fit(x_train, y_train, batch_size = 64,\n",
    "            epochs=2, callbacks = [tb_call])"
   ]
  },
  {
   "cell_type": "code",
   "execution_count": null,
   "metadata": {},
   "outputs": [],
   "source": [
    "logdir='../../tf_logs'\n",
    "os.system('rm -rf {}'.format(logdir))\n",
    "tf.profiler.experimental.start(logdir)\n",
    "model.fit(x_train, y_train, batch_size = 64,\n",
    "            epochs=2, callbacks = [tb_call])\n",
    "tf.profiler.experimental.stop()"
   ]
  }
 ],
 "metadata": {
  "kernelspec": {
   "display_name": "Python 3",
   "language": "python",
   "name": "python3"
  },
  "language_info": {
   "codemirror_mode": {
    "name": "ipython",
    "version": 3
   },
   "file_extension": ".py",
   "mimetype": "text/x-python",
   "name": "python",
   "nbconvert_exporter": "python",
   "pygments_lexer": "ipython3",
   "version": "3.6.9"
  }
 },
 "nbformat": 4,
 "nbformat_minor": 4
}
