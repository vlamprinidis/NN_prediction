{
 "cells": [
  {
   "cell_type": "code",
   "execution_count": null,
   "metadata": {},
   "outputs": [],
   "source": [
    "import numpy as np\n",
    "import matplotlib.pyplot as plt\n",
    "\n",
    "import pandas as pd"
   ]
  },
  {
   "cell_type": "code",
   "execution_count": null,
   "metadata": {},
   "outputs": [],
   "source": [
    "class Plot:\n",
    "    def __init__(self, file, names):        \n",
    "        n_all = [pd.read_csv('stats/node_{}/{}'.format(node, file), sep=',', header=None,\n",
    "                             names=names+['time_us']) for node in [1,2,3]]\n",
    "        \n",
    "        x = pd.concat(n_all)   \n",
    "        \n",
    "        x = x[x['numf'] < 120].reset_index(drop=True)\n",
    "        \n",
    "        steps = x['epochs']*x['dataset size']/x['batch']\n",
    "\n",
    "        x['time_ms'] = x['time_us']/steps/1000\n",
    "        \n",
    "        self.df = x.drop(columns=['epochs', 'dataset size', 'time_us'])\n",
    "        \n",
    "    def plot(self, feat, label=None):\n",
    "        dfs = [self.df[self.df['nodes']==node] for node in [1,2,3]]\n",
    "        \n",
    "        def org(df):\n",
    "            return df[[feat, 'time_ms']].groupby(by=[feat]).mean().reset_index()\n",
    "        \n",
    "        scale = 2\n",
    "        plt.figure(figsize=[scale*6.4, scale*4.8])\n",
    "        \n",
    "        colors = ['r','g','b']\n",
    "        lines = [3,3,1]\n",
    "        for j,marker in enumerate(['x','+','o']):\n",
    "            _df = org(dfs[j])\n",
    "            plt.scatter(_df[feat], _df['time_ms'], label='nodes: {}'.format(j+1), marker=marker,\n",
    "                        s=100,\n",
    "                        color=colors[j], \n",
    "                        linewidths=lines[j] \n",
    "                       )\n",
    "            \n",
    "        plt.legend(fontsize=20)\n",
    "        plt.xlabel(feat if label == None else label, fontsize=20)\n",
    "        plt.ylabel('Μέσος Χρόνος Εκτέλεσης (ms)', fontsize=20)\n",
    "        plt.title(self.title, fontsize=20)\n",
    "        plt.tight_layout()\n",
    "    \n",
    "    def _check(self, dim, fw):\n",
    "        assert dim in [1,2]\n",
    "        assert fw in ['tflow', 'ptorch']\n",
    "        \n",
    "    def all_names(self):\n",
    "        return ['epochs', 'dataset size', 'numf', 'channels', 'batch', 'nodes']\n",
    "    \n",
    "    def dense_names(self):\n",
    "        return ['epochs', 'dataset size', 'numf', 'batch', 'nodes', 'units']\n",
    "    \n",
    "    def the_fw(self, fw):\n",
    "        assert fw in ['tflow', 'ptorch']\n",
    "        dct = {'tflow':'TensorFlow', 'ptorch':'PyTorch'}\n",
    "        \n",
    "        return dct[fw]\n",
    "        "
   ]
  },
  {
   "cell_type": "code",
   "execution_count": null,
   "metadata": {},
   "outputs": [],
   "source": [
    "class Conv(Plot):\n",
    "    def __init__(self, dim, fw):\n",
    "        super()._check(dim, fw)\n",
    "        \n",
    "        self.file = 'conv{}d.{}'.format(dim, fw)\n",
    "        super().__init__(self.file, super().all_names() + ['kernel', 'stride', 'filters'])\n",
    "        \n",
    "        self.title = 'Convolutional {}D - {}'.format(dim, self.the_fw(fw))"
   ]
  },
  {
   "cell_type": "code",
   "execution_count": null,
   "metadata": {},
   "outputs": [],
   "source": [
    "class Pool(Plot):\n",
    "    def __init__(self, typ, dim, fw):\n",
    "        assert typ in ['avg', 'max']\n",
    "        super()._check(dim, fw)\n",
    "        \n",
    "        self.file = '{}{}d.{}'.format(typ, dim, fw)\n",
    "        super().__init__(self.file, super().all_names() + ['pool', 'stride'])\n",
    "        \n",
    "        dct = {'avg':'Average Pooling', 'max':'Max Pooling'}\n",
    "        self.title = '{} {}D - {}'.format(dct[typ], dim, self.the_fw(fw))"
   ]
  },
  {
   "cell_type": "code",
   "execution_count": null,
   "metadata": {},
   "outputs": [],
   "source": [
    "class Drop(Plot):\n",
    "    def __init__(self, dim, fw):\n",
    "        super()._check(dim, fw)\n",
    "        self.file = 'drop{}d.{}'.format(dim, fw)\n",
    "        \n",
    "        super().__init__(self.file, super().all_names() + ['drop'])\n",
    "        \n",
    "        self.title = 'Dropout {}D - {}'.format(dim, self.the_fw(fw))"
   ]
  },
  {
   "cell_type": "code",
   "execution_count": null,
   "metadata": {},
   "outputs": [],
   "source": [
    "class Rest(Plot):\n",
    "    def __init__(self, typ, dim, fw):\n",
    "        assert typ in ['norm', 'relu', 'tanh', 'flatten']\n",
    "        super()._check(dim, fw)\n",
    "        assert not ((typ=='flatten') & (fw=='tflow'))\n",
    "        \n",
    "        self.file = '{}{}d.{}'.format(typ, dim, fw)\n",
    "        super().__init__(self.file, super().all_names())\n",
    "        \n",
    "        dct = {'norm':'Batch Normalization', 'relu':'ReLU', 'tanh':'Tanh', 'flatten':'Flatten'}\n",
    "        self.title = '{} {}D - {}'.format(dct[typ], dim, self.the_fw(fw))"
   ]
  },
  {
   "cell_type": "code",
   "execution_count": null,
   "metadata": {},
   "outputs": [],
   "source": [
    "class Dense(Plot):\n",
    "    def __init__(self, fw, _final=False):\n",
    "        assert fw in ['tflow', 'ptorch']\n",
    "        final = _final if fw=='tflow' else True\n",
    "        \n",
    "        self.file = 'dense.{}'.format(fw) if final==False else 'final_dense.{}'.format(fw)\n",
    "        super().__init__(self.file, super().dense_names())\n",
    "        \n",
    "        self.title = 'Fully Connected - {}'.format(self.the_fw(fw))"
   ]
  },
  {
   "cell_type": "markdown",
   "metadata": {},
   "source": [
    "# Set TensorFlow or PyTorch"
   ]
  },
  {
   "cell_type": "code",
   "execution_count": null,
   "metadata": {},
   "outputs": [],
   "source": [
    "fw = 'ptorch'"
   ]
  },
  {
   "cell_type": "markdown",
   "metadata": {},
   "source": [
    "# Plot FC"
   ]
  },
  {
   "cell_type": "code",
   "execution_count": null,
   "metadata": {},
   "outputs": [],
   "source": [
    "p = Dense(fw)\n",
    "\n",
    "p.plot('numf', 'Πλήθος χαρακτηριστικών')\n",
    "plt.savefig('{}_dense_numf'.format(fw), facecolor='white')\n",
    "\n",
    "p.plot('batch', 'Μέγεθος τεμαχίων')\n",
    "plt.savefig('{}_dense_batch'.format(fw), facecolor='white')\n",
    "\n",
    "p.plot('units', 'Πλήθος μονάδων')\n",
    "plt.savefig('{}_dense_units'.format(fw), facecolor='white')"
   ]
  },
  {
   "cell_type": "markdown",
   "metadata": {},
   "source": [
    "# Set Dimension"
   ]
  },
  {
   "cell_type": "code",
   "execution_count": null,
   "metadata": {},
   "outputs": [],
   "source": [
    "dim = 2"
   ]
  },
  {
   "cell_type": "markdown",
   "metadata": {},
   "source": [
    "# Plot all the rest"
   ]
  },
  {
   "cell_type": "code",
   "execution_count": null,
   "metadata": {},
   "outputs": [],
   "source": [
    "p = Rest('norm', dim, fw)\n",
    "\n",
    "p.plot('numf', 'Πλήθος χαρακτηριστικών')\n",
    "plt.savefig('{}_norm{}d_numf'.format(fw, dim), facecolor='white')\n",
    "\n",
    "p.plot('channels', 'Πλήθος καναλιών εισόδου')\n",
    "plt.savefig('{}_norm{}d_channels'.format(fw, dim), facecolor='white')\n",
    "\n",
    "p.plot('batch', 'Μέγεθος τεμαχίων')\n",
    "plt.savefig('{}_norm{}d_batch'.format(fw, dim), facecolor='white')"
   ]
  },
  {
   "cell_type": "code",
   "execution_count": null,
   "metadata": {},
   "outputs": [],
   "source": [
    "p = Rest('relu', dim, fw)\n",
    "\n",
    "p.plot('numf', 'Πλήθος χαρακτηριστικών')\n",
    "plt.savefig('{}_relu{}d_numf'.format(fw, dim), facecolor='white')\n",
    "\n",
    "p.plot('channels', 'Πλήθος καναλιών εισόδου')\n",
    "plt.savefig('{}_relu{}d_channels'.format(fw, dim), facecolor='white')\n",
    "\n",
    "p.plot('batch', 'Μέγεθος τεμαχίων')\n",
    "plt.savefig('{}_relu{}d_batch'.format(fw, dim), facecolor='white')"
   ]
  },
  {
   "cell_type": "code",
   "execution_count": null,
   "metadata": {},
   "outputs": [],
   "source": [
    "p = Rest('tanh', dim, fw)\n",
    "\n",
    "p.plot('numf', 'Πλήθος χαρακτηριστικών')\n",
    "plt.savefig('{}_tanh{}d_numf'.format(fw, dim), facecolor='white')\n",
    "\n",
    "p.plot('channels', 'Πλήθος καναλιών εισόδου')\n",
    "plt.savefig('{}_tanh{}d_channels'.format(fw, dim), facecolor='white')\n",
    "\n",
    "p.plot('batch', 'Μέγεθος τεμαχίων')\n",
    "plt.savefig('{}_tanh{}d_batch'.format(fw, dim), facecolor='white')"
   ]
  },
  {
   "cell_type": "code",
   "execution_count": null,
   "metadata": {},
   "outputs": [],
   "source": [
    "p = Drop(dim, fw)\n",
    "\n",
    "p.plot('numf', 'Πλήθος χαρακτηριστικών')\n",
    "plt.savefig('{}_dropout{}d_numf'.format(fw, dim), facecolor='white')\n",
    "\n",
    "p.plot('channels', 'Πλήθος καναλιών εισόδου')\n",
    "plt.savefig('{}_dropout{}d_channels'.format(fw, dim), facecolor='white')\n",
    "\n",
    "p.plot('batch', 'Μέγεθος τεμαχίων')\n",
    "plt.savefig('{}_dropout{}d_batch'.format(fw, dim), facecolor='white')\n",
    "\n",
    "\n",
    "p.plot('drop', 'Πιθανότητα εγκατάλειψης')\n",
    "plt.savefig('{}_dropout{}d_kernel'.format(fw, dim), facecolor='white')"
   ]
  },
  {
   "cell_type": "code",
   "execution_count": null,
   "metadata": {},
   "outputs": [],
   "source": [
    "p = Pool('avg', dim, fw)\n",
    "\n",
    "p.plot('numf', 'Πλήθος χαρακτηριστικών')\n",
    "plt.savefig('{}_avg{}d_numf'.format(fw, dim), facecolor='white')\n",
    "\n",
    "p.plot('channels', 'Πλήθος καναλιών εισόδου')\n",
    "plt.savefig('{}_avg{}d_channels'.format(fw, dim), facecolor='white')\n",
    "\n",
    "p.plot('batch', 'Μέγεθος τεμαχίων')\n",
    "plt.savefig('{}_avg{}d_batch'.format(fw, dim), facecolor='white')\n",
    "\n",
    "\n",
    "p.plot('pool', 'Μέγεθος συγκέντρωσης')\n",
    "plt.savefig('{}_avg{}d_kernel'.format(fw, dim), facecolor='white')\n",
    "\n",
    "p.plot('stride', 'Βήμα ολίσθησης')\n",
    "plt.savefig('{}_avg{}d_stride'.format(fw, dim), facecolor='white')"
   ]
  },
  {
   "cell_type": "code",
   "execution_count": null,
   "metadata": {},
   "outputs": [],
   "source": [
    "p = Pool('max', dim, fw)\n",
    "\n",
    "p.plot('numf', 'Πλήθος χαρακτηριστικών')\n",
    "plt.savefig('{}_max{}d_numf'.format(fw, dim), facecolor='white')\n",
    "\n",
    "p.plot('channels', 'Πλήθος καναλιών εισόδου')\n",
    "plt.savefig('{}_max{}d_channels'.format(fw, dim), facecolor='white')\n",
    "\n",
    "p.plot('batch', 'Μέγεθος τεμαχίων')\n",
    "plt.savefig('{}_max{}d_batch'.format(fw, dim), facecolor='white')\n",
    "\n",
    "\n",
    "p.plot('pool', 'Μέγεθος συγκέντρωσης')\n",
    "plt.savefig('{}_max{}d_kernel'.format(fw, dim), facecolor='white')\n",
    "\n",
    "p.plot('stride', 'Βήμα ολίσθησης')\n",
    "plt.savefig('{}_max{}d_stride'.format(fw, dim), facecolor='white')"
   ]
  },
  {
   "cell_type": "code",
   "execution_count": null,
   "metadata": {
    "scrolled": true
   },
   "outputs": [],
   "source": [
    "p = Conv(dim,fw)\n",
    "p.plot('numf', 'Πλήθος χαρακτηριστικών')\n",
    "plt.savefig('{}_conv{}d_numf'.format(fw, dim), facecolor='white')\n",
    "\n",
    "p.plot('channels', 'Πλήθος καναλιών εισόδου')\n",
    "plt.savefig('{}_conv{}d_channels'.format(fw, dim), facecolor='white')\n",
    "\n",
    "p.plot('batch', 'Μέγεθος τεμαχίων')\n",
    "plt.savefig('{}_conv{}d_batch'.format(fw, dim), facecolor='white')\n",
    "\n",
    "\n",
    "p.plot('filters', 'Πλήθος φίλτρων (Πλήθος καναλιών εξόδου)')\n",
    "plt.savefig('{}_conv{}d_filters'.format(fw, dim), facecolor='white')\n",
    "\n",
    "p.plot('kernel', 'Μέγεθος πυρήνα')\n",
    "plt.savefig('{}_conv{}d_kernel'.format(fw, dim), facecolor='white')\n",
    "\n",
    "p.plot('stride', 'Βήμα ολίσθησης')\n",
    "plt.savefig('{}_conv{}d_stride'.format(fw, dim), facecolor='white')"
   ]
  },
  {
   "cell_type": "code",
   "execution_count": null,
   "metadata": {},
   "outputs": [],
   "source": []
  }
 ],
 "metadata": {
  "kernelspec": {
   "display_name": "Python 3",
   "language": "python",
   "name": "python3"
  },
  "language_info": {
   "codemirror_mode": {
    "name": "ipython",
    "version": 3
   },
   "file_extension": ".py",
   "mimetype": "text/x-python",
   "name": "python",
   "nbconvert_exporter": "python",
   "pygments_lexer": "ipython3",
   "version": "3.6.9"
  }
 },
 "nbformat": 4,
 "nbformat_minor": 4
}
