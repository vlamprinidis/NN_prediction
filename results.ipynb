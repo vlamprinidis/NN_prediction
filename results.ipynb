{
 "cells": [
  {
   "cell_type": "code",
   "execution_count": null,
   "metadata": {},
   "outputs": [],
   "source": [
    "import numpy as np\n",
    "import matplotlib.pyplot as plt\n",
    "\n",
    "import pandas as pd"
   ]
  },
  {
   "cell_type": "code",
   "execution_count": null,
   "metadata": {},
   "outputs": [],
   "source": [
    "class Plot:\n",
    "    def __init__(self, file, names):        \n",
    "        n_all = [pd.read_csv('stats/node_{}/{}'.format(node, file), sep=',', header=None,\n",
    "                             names=names+['time_us']) for node in [1,2,3]]\n",
    "        \n",
    "        x = pd.concat(n_all)   \n",
    "        \n",
    "        x = x[x['numf'] < 120].reset_index(drop=True)\n",
    "        \n",
    "        steps = x['epochs']*x['dataset size']/x['batch']\n",
    "\n",
    "        x['time_ms'] = x['time_us']/steps/1000\n",
    "        \n",
    "        self.df = x.drop(columns=['epochs', 'dataset size', 'time_us'])\n",
    "        \n",
    "    def plot(self, feat, title=None):\n",
    "        dfs = [self.df[self.df['nodes']==node] for node in [1,2,3]]\n",
    "        \n",
    "        def org(df):\n",
    "            return df[[feat, 'time_ms']].groupby(by=[feat]).mean().reset_index()\n",
    "        \n",
    "        scale = 2\n",
    "        plt.figure(figsize=[scale*6.4, scale*4.8])\n",
    "        \n",
    "        colors = ['r','g','b']\n",
    "        lines = [3,3,1]\n",
    "        for j,marker in enumerate(['x','+','o']):\n",
    "            _df = org(dfs[j])\n",
    "            plt.scatter(_df[feat], _df['time_ms'], label='nodes: {}'.format(j+1), marker=marker,\n",
    "                        s=100,\n",
    "                        color=colors[j], \n",
    "                        linewidths=lines[j] \n",
    "                       )\n",
    "            \n",
    "        plt.legend(fontsize=20)\n",
    "        plt.xlabel(feat if title == None else title, fontsize=20)\n",
    "        plt.ylabel('Μέσος Χρόνος Εκτέλεσης (ms)', fontsize=20)\n",
    "        plt.tight_layout()\n",
    "    \n",
    "    def _check(self, dim, fw):\n",
    "        assert dim in [1,2]\n",
    "        assert fw in ['tflow', 'ptorch']\n",
    "        \n",
    "    def all_names(self):\n",
    "        return ['epochs', 'dataset size', 'numf', 'channels', 'batch', 'nodes']\n",
    "    \n",
    "    def dense_names(self):\n",
    "        return ['epochs', 'dataset size', 'numf', 'batch', 'nodes', 'units']\n",
    "        "
   ]
  },
  {
   "cell_type": "code",
   "execution_count": null,
   "metadata": {},
   "outputs": [],
   "source": [
    "class Conv(Plot):\n",
    "    def __init__(self, dim, fw):\n",
    "        super()._check(dim, fw)\n",
    "        \n",
    "        self.file = 'conv{}d.{}'.format(dim, fw)\n",
    "        super().__init__(self.file, super().all_names() + ['kernel', 'stride', 'filters'])"
   ]
  },
  {
   "cell_type": "code",
   "execution_count": null,
   "metadata": {},
   "outputs": [],
   "source": [
    "class Pool(Plot):\n",
    "    def __init__(self, typ, dim, fw):\n",
    "        assert typ in ['avg', 'max']\n",
    "        super()._check(dim, fw)\n",
    "        \n",
    "        self.file = '{}{}d.{}'.format(typ, dim, fw)\n",
    "        super().__init__(self.file, super().all_names() + ['pool', 'stride'])"
   ]
  },
  {
   "cell_type": "code",
   "execution_count": null,
   "metadata": {},
   "outputs": [],
   "source": [
    "class Drop(Plot):\n",
    "    def __init__(self, dim, fw):\n",
    "        super()._check(dim, fw)\n",
    "        self.file = 'drop{}d.{}'.format(dim, fw)\n",
    "        \n",
    "        super().__init__(self.file, super().all_names() + ['kernel', 'drop'])"
   ]
  },
  {
   "cell_type": "code",
   "execution_count": null,
   "metadata": {},
   "outputs": [],
   "source": [
    "class Rest(Plot):\n",
    "    def __init__(self, typ, dim, fw):\n",
    "        assert typ in ['norm', 'relu', 'tanh', 'flatten']\n",
    "        super()._check(dim, fw)\n",
    "        assert not ((typ=='flatten') & (fw=='tflow'))\n",
    "        \n",
    "        self.file = '{}{}d.{}'.format(typ, dim, fw)\n",
    "        super().__init__(self.file, super().all_names())"
   ]
  },
  {
   "cell_type": "markdown",
   "metadata": {},
   "source": [
    "# PyTorch"
   ]
  },
  {
   "cell_type": "code",
   "execution_count": null,
   "metadata": {},
   "outputs": [],
   "source": []
  }
 ],
 "metadata": {
  "kernelspec": {
   "display_name": "Python 3",
   "language": "python",
   "name": "python3"
  },
  "language_info": {
   "codemirror_mode": {
    "name": "ipython",
    "version": 3
   },
   "file_extension": ".py",
   "mimetype": "text/x-python",
   "name": "python",
   "nbconvert_exporter": "python",
   "pygments_lexer": "ipython3",
   "version": "3.6.9"
  }
 },
 "nbformat": 4,
 "nbformat_minor": 4
}
