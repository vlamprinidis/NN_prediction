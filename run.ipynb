{
 "cells": [
  {
   "cell_type": "code",
   "execution_count": null,
   "metadata": {},
   "outputs": [],
   "source": [
    "import run"
   ]
  },
  {
   "cell_type": "code",
   "execution_count": null,
   "metadata": {},
   "outputs": [],
   "source": [
    "CMD = '/home/ubuntu/.env/bin/python3 /home/ubuntu/execute/{file} -model {model} -ds {ds} -numf {numf} -ch {ch} -out {out} -nodes {nodes} -batch {batch} -epochs {epochs}'.format"
   ]
  },
  {
   "cell_type": "code",
   "execution_count": null,
   "metadata": {},
   "outputs": [],
   "source": [
    "fws = ['tflow.py', 'ptorch.py']"
   ]
  },
  {
   "cell_type": "code",
   "execution_count": null,
   "metadata": {},
   "outputs": [],
   "source": [
    "file = fws[0]"
   ]
  },
  {
   "cell_type": "code",
   "execution_count": null,
   "metadata": {},
   "outputs": [],
   "source": [
    "file"
   ]
  },
  {
   "cell_type": "code",
   "execution_count": null,
   "metadata": {},
   "outputs": [],
   "source": [
    "ds=9*512*8"
   ]
  },
  {
   "cell_type": "code",
   "execution_count": null,
   "metadata": {},
   "outputs": [],
   "source": [
    "ds"
   ]
  },
  {
   "cell_type": "markdown",
   "metadata": {},
   "source": [
    "# LeNet-1"
   ]
  },
  {
   "cell_type": "code",
   "execution_count": null,
   "metadata": {},
   "outputs": [],
   "source": [
    "epochs = 5\n",
    "for nodes in [1]:\n",
    "    for batch in [16,64,256]:\n",
    "        cmd = CMD(file=file, ds=ds, numf=28, ch=1, out=10, model='LeNet_1', nodes=nodes, batch=batch, epochs=epochs)\n",
    "        run.clean_go(cmd,nodes)"
   ]
  },
  {
   "cell_type": "markdown",
   "metadata": {},
   "source": [
    "# LeNet-5"
   ]
  },
  {
   "cell_type": "code",
   "execution_count": null,
   "metadata": {
    "scrolled": true
   },
   "outputs": [],
   "source": [
    "epochs = 5\n",
    "for nodes in [1]:\n",
    "    for batch in [16,64,256]:\n",
    "        cmd = CMD(file=file, ds=ds, numf=32, ch=1, out=10, model='LeNet_5', nodes=nodes, batch=batch, epochs=epochs)\n",
    "        run.clean_go(cmd,nodes)"
   ]
  },
  {
   "cell_type": "markdown",
   "metadata": {},
   "source": [
    "# AlexNet"
   ]
  },
  {
   "cell_type": "code",
   "execution_count": null,
   "metadata": {},
   "outputs": [],
   "source": [
    "epochs = 5\n",
    "for nodes in [1]:\n",
    "    for batch in [16,64,256]:\n",
    "        cmd = CMD(file=file, ds=ds, numf=227, ch=3, out=1000, model='AlexNet', nodes=nodes, batch=batch, epochs=epochs)\n",
    "        run.clean_go(cmd,nodes)"
   ]
  },
  {
   "cell_type": "markdown",
   "metadata": {},
   "source": [
    "# VGG-11"
   ]
  },
  {
   "cell_type": "code",
   "execution_count": null,
   "metadata": {
    "scrolled": true
   },
   "outputs": [],
   "source": [
    "epochs = 5\n",
    "for nodes in [1]:\n",
    "    for batch in [16,64]:\n",
    "        cmd = CMD(file=file, ds=ds, numf=224, ch=3, out=1000, model='VGG_11', nodes=nodes, batch=batch, epochs=epochs)\n",
    "        run.clean_go(cmd,nodes,timeout=60*60)"
   ]
  },
  {
   "cell_type": "markdown",
   "metadata": {},
   "source": [
    "# My AlexNet"
   ]
  },
  {
   "cell_type": "code",
   "execution_count": null,
   "metadata": {},
   "outputs": [],
   "source": [
    "epochs = 5\n",
    "for nodes in [1]:\n",
    "    for batch in [16,64,256]:\n",
    "        cmd = CMD(file=file, ds=ds, numf=64, ch=3, out=10, model='My_AlexNet', nodes=nodes, batch=batch, epochs=epochs)\n",
    "        run.clean_go(cmd,nodes)"
   ]
  },
  {
   "cell_type": "markdown",
   "metadata": {},
   "source": [
    "# My VGG-11"
   ]
  },
  {
   "cell_type": "code",
   "execution_count": null,
   "metadata": {},
   "outputs": [],
   "source": [
    "epochs = 5\n",
    "for nodes in [1]:\n",
    "    for batch in [16,64,256]:\n",
    "        cmd = CMD(file=file, ds=ds, numf=128, ch=3, out=10, model='My_VGG_11', nodes=nodes, batch=batch, epochs=epochs)\n",
    "        run.clean_go(cmd,nodes)"
   ]
  },
  {
   "cell_type": "code",
   "execution_count": null,
   "metadata": {},
   "outputs": [],
   "source": []
  }
 ],
 "metadata": {
  "kernelspec": {
   "display_name": "Python 3",
   "language": "python",
   "name": "python3"
  },
  "language_info": {
   "codemirror_mode": {
    "name": "ipython",
    "version": 3
   },
   "file_extension": ".py",
   "mimetype": "text/x-python",
   "name": "python",
   "nbconvert_exporter": "python",
   "pygments_lexer": "ipython3",
   "version": "3.5.2"
  }
 },
 "nbformat": 4,
 "nbformat_minor": 4
}
