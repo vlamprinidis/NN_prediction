{
 "cells": [
  {
   "cell_type": "code",
   "execution_count": 1,
   "metadata": {},
   "outputs": [],
   "source": [
    "import run_on_nodes as run"
   ]
  },
  {
   "cell_type": "code",
   "execution_count": 3,
   "metadata": {},
   "outputs": [],
   "source": [
    "CMD = '/home/ubuntu/.env/bin/python3 /home/ubuntu/prof_run/{}.py -nodes {} -batch {} -epochs {}'.format"
   ]
  },
  {
   "cell_type": "code",
   "execution_count": null,
   "metadata": {},
   "outputs": [],
   "source": [
    "tf = ['tflow_lenet']\n",
    "pt = ['torch_lenet']"
   ]
  },
  {
   "cell_type": "code",
   "execution_count": 2,
   "metadata": {},
   "outputs": [],
   "source": [
    "epochs = 5"
   ]
  },
  {
   "cell_type": "code",
   "execution_count": 19,
   "metadata": {},
   "outputs": [],
   "source": [
    "batch = 512\n",
    "nodes = 2\n",
    "model = tf[0]\n",
    "\n",
    "cmd = CMD(model, nodes, batch, epochs)"
   ]
  },
  {
   "cell_type": "code",
   "execution_count": 20,
   "metadata": {},
   "outputs": [
    {
     "data": {
      "text/plain": [
       "'/home/ubuntu/.env/bin/python3 /home/ubuntu/prof_run/tflow_lenet.py -nodes 2 -batch 512 -epochs 5'"
      ]
     },
     "execution_count": 20,
     "metadata": {},
     "output_type": "execute_result"
    }
   ],
   "source": [
    "cmd"
   ]
  },
  {
   "cell_type": "code",
   "execution_count": 21,
   "metadata": {
    "scrolled": false
   },
   "outputs": [
    {
     "name": "stdout",
     "output_type": "stream",
     "text": [
      "RUNNING CMD:\n",
      "/home/ubuntu/.env/bin/python3 /home/ubuntu/prof_run/tflow_lenet.py -nodes 2 -batch 512 -epochs 5 > tflow_lenet_batch512_nodes2.out 2> pred.err\n",
      "RAN ON FIRST NODE\n",
      "RAN ON SECOND NODE\n",
      "FIRST NODE END\n",
      "SECOND NODE END\n"
     ]
    },
    {
     "data": {
      "text/plain": [
       "True"
      ]
     },
     "execution_count": 21,
     "metadata": {},
     "output_type": "execute_result"
    }
   ],
   "source": [
    "run.go(cmd + ' > {}_nodes{}_batch{}.out 2> pred.err'.format(model, nodes, batch), nodes=nodes)"
   ]
  },
  {
   "cell_type": "code",
   "execution_count": null,
   "metadata": {},
   "outputs": [],
   "source": []
  },
  {
   "cell_type": "code",
   "execution_count": 25,
   "metadata": {},
   "outputs": [],
   "source": [
    "model = pt[0]"
   ]
  },
  {
   "cell_type": "code",
   "execution_count": 26,
   "metadata": {},
   "outputs": [
    {
     "data": {
      "text/plain": [
       "'torch_lenet'"
      ]
     },
     "execution_count": 26,
     "metadata": {},
     "output_type": "execute_result"
    }
   ],
   "source": [
    "model"
   ]
  },
  {
   "cell_type": "code",
   "execution_count": 27,
   "metadata": {},
   "outputs": [
    {
     "name": "stdout",
     "output_type": "stream",
     "text": [
      "RUNNING CMD:\n",
      "/home/ubuntu/.env/bin/python3 /home/ubuntu/prof_run/torch_lenet.py -nodes 1 -batch 32 -epochs 5 > torch_lenet_nodes1_batch32.out 2> pred.err\n",
      "RAN ON FIRST NODE\n",
      "FIRST NODE END\n",
      "RUNNING CMD:\n",
      "/home/ubuntu/.env/bin/python3 /home/ubuntu/prof_run/torch_lenet.py -nodes 1 -batch 64 -epochs 5 > torch_lenet_nodes1_batch64.out 2> pred.err\n",
      "RAN ON FIRST NODE\n",
      "FIRST NODE END\n",
      "RUNNING CMD:\n",
      "/home/ubuntu/.env/bin/python3 /home/ubuntu/prof_run/torch_lenet.py -nodes 1 -batch 128 -epochs 5 > torch_lenet_nodes1_batch128.out 2> pred.err\n",
      "RAN ON FIRST NODE\n",
      "FIRST NODE END\n",
      "RUNNING CMD:\n",
      "/home/ubuntu/.env/bin/python3 /home/ubuntu/prof_run/torch_lenet.py -nodes 1 -batch 512 -epochs 5 > torch_lenet_nodes1_batch512.out 2> pred.err\n",
      "RAN ON FIRST NODE\n",
      "FIRST NODE END\n",
      "RUNNING CMD:\n",
      "/home/ubuntu/.env/bin/python3 /home/ubuntu/prof_run/torch_lenet.py -nodes 2 -batch 32 -epochs 5 > torch_lenet_nodes2_batch32.out 2> pred.err\n",
      "RAN ON FIRST NODE\n",
      "RAN ON SECOND NODE\n",
      "FIRST NODE END\n",
      "SECOND NODE END\n",
      "RUNNING CMD:\n",
      "/home/ubuntu/.env/bin/python3 /home/ubuntu/prof_run/torch_lenet.py -nodes 2 -batch 64 -epochs 5 > torch_lenet_nodes2_batch64.out 2> pred.err\n",
      "RAN ON FIRST NODE\n",
      "RAN ON SECOND NODE\n",
      "FIRST NODE END\n",
      "SECOND NODE END\n",
      "RUNNING CMD:\n",
      "/home/ubuntu/.env/bin/python3 /home/ubuntu/prof_run/torch_lenet.py -nodes 2 -batch 128 -epochs 5 > torch_lenet_nodes2_batch128.out 2> pred.err\n",
      "RAN ON FIRST NODE\n",
      "RAN ON SECOND NODE\n",
      "FIRST NODE END\n",
      "SECOND NODE END\n",
      "RUNNING CMD:\n",
      "/home/ubuntu/.env/bin/python3 /home/ubuntu/prof_run/torch_lenet.py -nodes 2 -batch 512 -epochs 5 > torch_lenet_nodes2_batch512.out 2> pred.err\n",
      "RAN ON FIRST NODE\n",
      "RAN ON SECOND NODE\n",
      "FIRST NODE END\n",
      "SECOND NODE END\n",
      "RUNNING CMD:\n",
      "/home/ubuntu/.env/bin/python3 /home/ubuntu/prof_run/torch_lenet.py -nodes 3 -batch 32 -epochs 5 > torch_lenet_nodes3_batch32.out 2> pred.err\n",
      "RAN ON FIRST NODE\n",
      "RAN ON SECOND NODE\n",
      "RAN ON THIRD NODE\n",
      "FIRST NODE END\n",
      "SECOND NODE END\n",
      "THIRD NODE END\n",
      "RUNNING CMD:\n",
      "/home/ubuntu/.env/bin/python3 /home/ubuntu/prof_run/torch_lenet.py -nodes 3 -batch 64 -epochs 5 > torch_lenet_nodes3_batch64.out 2> pred.err\n",
      "RAN ON FIRST NODE\n",
      "RAN ON SECOND NODE\n",
      "RAN ON THIRD NODE\n",
      "FIRST NODE END\n",
      "SECOND NODE END\n",
      "THIRD NODE END\n",
      "RUNNING CMD:\n",
      "/home/ubuntu/.env/bin/python3 /home/ubuntu/prof_run/torch_lenet.py -nodes 3 -batch 128 -epochs 5 > torch_lenet_nodes3_batch128.out 2> pred.err\n",
      "RAN ON FIRST NODE\n",
      "RAN ON SECOND NODE\n",
      "RAN ON THIRD NODE\n",
      "FIRST NODE END\n",
      "SECOND NODE END\n",
      "THIRD NODE END\n",
      "RUNNING CMD:\n",
      "/home/ubuntu/.env/bin/python3 /home/ubuntu/prof_run/torch_lenet.py -nodes 3 -batch 512 -epochs 5 > torch_lenet_nodes3_batch512.out 2> pred.err\n",
      "RAN ON FIRST NODE\n",
      "RAN ON SECOND NODE\n",
      "RAN ON THIRD NODE\n",
      "FIRST NODE END\n",
      "SECOND NODE END\n",
      "THIRD NODE END\n"
     ]
    }
   ],
   "source": [
    "for nodes in [1,2,3]:\n",
    "    for batch in [32,64,128,512]:\n",
    "        cmd = CMD(model, nodes, batch, epochs)\n",
    "        run.go(cmd + ' > {}_nodes{}_batch{}.out 2> pred.err'.format(model, nodes, batch), nodes=nodes)"
   ]
  },
  {
   "cell_type": "code",
   "execution_count": null,
   "metadata": {},
   "outputs": [],
   "source": []
  }
 ],
 "metadata": {
  "kernelspec": {
   "display_name": "Python 3",
   "language": "python",
   "name": "python3"
  },
  "language_info": {
   "codemirror_mode": {
    "name": "ipython",
    "version": 3
   },
   "file_extension": ".py",
   "mimetype": "text/x-python",
   "name": "python",
   "nbconvert_exporter": "python",
   "pygments_lexer": "ipython3",
   "version": "3.6.9"
  }
 },
 "nbformat": 4,
 "nbformat_minor": 4
}
