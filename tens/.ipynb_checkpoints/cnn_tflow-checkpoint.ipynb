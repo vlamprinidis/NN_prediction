{
 "cells": [
  {
   "cell_type": "code",
   "execution_count": 1,
   "metadata": {},
   "outputs": [],
   "source": [
    "# !pip uninstall -y -q tensorflow tensorboard\n",
    "# !pip uninstall -y -q tensorflow tensorboard\n",
    "# !pip install -q -U -q tf-nightly tb-nightly tensorboard_plugin_profile"
   ]
  },
  {
   "cell_type": "code",
   "execution_count": 2,
   "metadata": {},
   "outputs": [],
   "source": [
    "# import tensorflow as tf\n",
    "\n",
    "# print(\"TensorFlow version: \", tf.__version__)"
   ]
  },
  {
   "cell_type": "code",
   "execution_count": 3,
   "metadata": {},
   "outputs": [
    {
     "name": "stdout",
     "output_type": "stream",
     "text": [
      "INFO:tensorflow:Enabled multi-worker collective ops with available devices: ['/job:worker/replica:0/task:0/device:CPU:0', '/job:worker/replica:0/task:0/device:XLA_CPU:0']\n",
      "INFO:tensorflow:Using MirroredStrategy with devices ('/job:worker/task:0',)\n",
      "INFO:tensorflow:MultiWorkerMirroredStrategy with cluster_spec = {'worker': ['10.0.1.121:8890', '10.0.1.104:8890', '10.0.1.46:8890']}, task_type = 'worker', task_id = 0, num_workers = 3, local_devices = ('/job:worker/task:0',), communication = CollectiveCommunication.AUTO\n",
      "(28, 28, 1)\n"
     ]
    }
   ],
   "source": [
    "%load_ext tensorboard\n",
    "\n",
    "import tensorflow as  tf\n",
    "\n",
    "import json\n",
    "import os\n",
    "import tensorflow as  tf\n",
    "os.environ['TF_CONFIG'] = json.dumps({\n",
    "    'cluster': {\n",
    "        'worker': [\"10.0.1.121:8890\", \"10.0.1.104:8890\", \"10.0.1.46:8890\"]\n",
    "#           'worker': [\"10.0.1.121:8890\", \"10.0.1.104:8890\"]\n",
    "    },\n",
    "    'task': {'type': 'worker', 'index': 0}\n",
    "})\n",
    "\n",
    "strategy = tf.distribute.experimental.MultiWorkerMirroredStrategy()\n",
    "\n",
    "import tensorflow as  tf\n",
    "from tensorflow.keras.models import Sequential\n",
    "from tensorflow.keras.layers import Dense, Conv2D, AveragePooling2D, Flatten\n",
    "\n",
    "mnist = tf.keras.datasets.mnist\n",
    "\n",
    "(x_train, y_train), (x_test, y_test) = mnist.load_data()\n",
    "\n",
    "rows, cols = 28, 28\n",
    " \n",
    "x_train = x_train.reshape(x_train.shape[0], rows, cols, 1)\n",
    "x_test = x_test.reshape(x_test.shape[0], rows, cols, 1)\n",
    "\n",
    "input_shape = (rows, cols, 1)\n",
    " \n",
    "# convert to float and normalize\n",
    "x_train = x_train.astype('float32')\n",
    "x_test = x_test.astype('float32')\n",
    "# x_train = x_train / 255.0\n",
    "# x_test = x_test / 255.0\n",
    "\n",
    "# one-hot encode the labels\n",
    "y_train = tf.keras.utils.to_categorical(y_train, 10)\n",
    "y_test = tf.keras.utils.to_categorical(y_test, 10)\n",
    "\n",
    "print(x_train[0].shape)\n",
    "\n",
    "def build_cnn():\n",
    "    model = Sequential()\n",
    "    \n",
    "    model.add(\n",
    "        Conv2D(filters=6, \n",
    "               kernel_size=(5, 5), \n",
    "               strides=(1, 1),\n",
    "               input_shape = input_shape,\n",
    "               activation='tanh')\n",
    "    )\n",
    "    \n",
    "    model.add(\n",
    "        AveragePooling2D(pool_size=(2, 2), \n",
    "                         strides=(2, 2))\n",
    "    )\n",
    "    \n",
    "    model.add(\n",
    "        Conv2D(filters=16, \n",
    "               kernel_size=(5, 5), \n",
    "               strides=(1, 1), \n",
    "               activation='tanh')\n",
    "    )\n",
    "    \n",
    "    model.add(\n",
    "        AveragePooling2D(pool_size=(2, 2), \n",
    "                         strides=(2, 2))\n",
    "    )\n",
    "    \n",
    "    model.add(Flatten())\n",
    "    \n",
    "    model.add(\n",
    "        Dense(units = 120, activation='tanh')\n",
    "    )\n",
    "    \n",
    "    model.add(Flatten())\n",
    "    \n",
    "    model.add(\n",
    "        Dense(units = 84, activation='tanh')\n",
    "    )\n",
    "    \n",
    "    model.add(\n",
    "        Dense(units = 10, activation='softmax')\n",
    "    )\n",
    "    \n",
    "    opt = tf.keras.optimizers.SGD(lr=0.1, momentum=0.0, decay=0.0)\n",
    "    \n",
    "    model.compile(loss='categorical_crossentropy', optimizer=opt,\n",
    "             metrics=['accuracy'])\n",
    "  \n",
    "    return model\n",
    "\n",
    "with strategy.scope():\n",
    "    net = build_cnn()\n",
    "\n",
    "# tf.profiler.experimental.start('logdir')"
   ]
  },
  {
   "cell_type": "code",
   "execution_count": 4,
   "metadata": {},
   "outputs": [
    {
     "name": "stdout",
     "output_type": "stream",
     "text": [
      "INFO:tensorflow:Running Distribute Coordinator with mode = 'independent_worker', cluster_spec = {'worker': ['10.0.1.121:8890', '10.0.1.104:8890', '10.0.1.46:8890']}, task_type = 'worker', task_id = 0, environment = None, rpc_layer = 'grpc'\n",
      "WARNING:tensorflow:`eval_fn` is not passed in. The `worker_fn` will be used if an \"evaluator\" task exists in the cluster.\n",
      "WARNING:tensorflow:`eval_strategy` is not passed in. No distribution strategy will be used for evaluation.\n",
      "INFO:tensorflow:Using MirroredStrategy with devices ('/job:worker/task:0',)\n",
      "INFO:tensorflow:MultiWorkerMirroredStrategy with cluster_spec = {'worker': ['10.0.1.121:8890', '10.0.1.104:8890', '10.0.1.46:8890']}, task_type = 'worker', task_id = 0, num_workers = 3, local_devices = ('/job:worker/task:0',), communication = CollectiveCommunication.AUTO\n",
      "INFO:tensorflow:Using MirroredStrategy with devices ('/job:worker/task:0',)\n",
      "INFO:tensorflow:MultiWorkerMirroredStrategy with cluster_spec = {'worker': ['10.0.1.121:8890', '10.0.1.104:8890', '10.0.1.46:8890']}, task_type = 'worker', task_id = 0, num_workers = 3, local_devices = ('/job:worker/task:0',), communication = CollectiveCommunication.AUTO\n",
      "INFO:tensorflow:Collective batch_all_reduce: 10 all-reduces, num_workers = 3, communication_hint = AUTO, num_packs = 1\n",
      "INFO:tensorflow:Collective batch_all_reduce: 1 all-reduces, num_workers = 3, communication_hint = AUTO, num_packs = 1\n",
      "INFO:tensorflow:Collective batch_all_reduce: 1 all-reduces, num_workers = 3, communication_hint = AUTO, num_packs = 1\n",
      "INFO:tensorflow:Collective batch_all_reduce: 1 all-reduces, num_workers = 3, communication_hint = AUTO, num_packs = 1\n",
      "INFO:tensorflow:Collective batch_all_reduce: 1 all-reduces, num_workers = 3, communication_hint = AUTO, num_packs = 1\n",
      "INFO:tensorflow:Collective batch_all_reduce: 10 all-reduces, num_workers = 3, communication_hint = AUTO, num_packs = 1\n",
      "INFO:tensorflow:Collective batch_all_reduce: 1 all-reduces, num_workers = 3, communication_hint = AUTO, num_packs = 1\n",
      "INFO:tensorflow:Collective batch_all_reduce: 1 all-reduces, num_workers = 3, communication_hint = AUTO, num_packs = 1\n",
      "INFO:tensorflow:Collective batch_all_reduce: 1 all-reduces, num_workers = 3, communication_hint = AUTO, num_packs = 1\n",
      "INFO:tensorflow:Collective batch_all_reduce: 1 all-reduces, num_workers = 3, communication_hint = AUTO, num_packs = 1\n",
      "599/600 [============================>.] - ETA: 0s - loss: 0.2115 - accuracy: 0.9431INFO:tensorflow:Collective batch_all_reduce: 1 all-reduces, num_workers = 3, communication_hint = AUTO, num_packs = 1\n",
      "INFO:tensorflow:Collective batch_all_reduce: 1 all-reduces, num_workers = 3, communication_hint = AUTO, num_packs = 1\n",
      "600/600 [==============================] - 13s 22ms/step - loss: 0.2113 - accuracy: 0.9431 - val_loss: 0.0869 - val_accuracy: 0.9738\n"
     ]
    }
   ],
   "source": [
    "# !rm -rf ./logs/ \n",
    "# log_dir = \"logs/fit/my\"\n",
    "\n",
    "with tf.profiler.experimental.Profile('logs/fit/my_cnn'):\n",
    "    net.fit(x_train, y_train, batch_size = 100,\n",
    "            epochs=1, validation_data=(x_test, y_test))\n",
    "    pass"
   ]
  },
  {
   "cell_type": "code",
   "execution_count": 5,
   "metadata": {
    "scrolled": false
   },
   "outputs": [],
   "source": [
    "# %tensorboard --logdir logs/fit --port 6006 --bind_all"
   ]
  },
  {
   "cell_type": "code",
   "execution_count": 6,
   "metadata": {},
   "outputs": [],
   "source": [
    "# model.save('Minst_Lstm.model')"
   ]
  }
 ],
 "metadata": {
  "kernelspec": {
   "display_name": "Python 3",
   "language": "python",
   "name": "python3"
  },
  "language_info": {
   "codemirror_mode": {
    "name": "ipython",
    "version": 3
   },
   "file_extension": ".py",
   "mimetype": "text/x-python",
   "name": "python",
   "nbconvert_exporter": "python",
   "pygments_lexer": "ipython3",
   "version": "3.7.7"
  }
 },
 "nbformat": 4,
 "nbformat_minor": 4
}
