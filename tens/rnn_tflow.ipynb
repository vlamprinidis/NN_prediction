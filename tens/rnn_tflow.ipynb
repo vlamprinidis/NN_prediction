{
 "cells": [
  {
   "cell_type": "code",
   "execution_count": 1,
   "metadata": {},
   "outputs": [
    {
     "name": "stdout",
     "output_type": "stream",
     "text": [
      "INFO:tensorflow:Enabled multi-worker collective ops with available devices: ['/job:worker/replica:0/task:0/device:CPU:0', '/job:worker/replica:0/task:0/device:XLA_CPU:0']\n",
      "INFO:tensorflow:Using MirroredStrategy with devices ('/job:worker/task:0',)\n",
      "INFO:tensorflow:MultiWorkerMirroredStrategy with cluster_spec = {'worker': ['10.0.1.121:8890', '10.0.1.104:8890', '10.0.1.46:8890']}, task_type = 'worker', task_id = 0, num_workers = 3, local_devices = ('/job:worker/task:0',), communication = CollectiveCommunication.AUTO\n",
      "(28, 28)\n"
     ]
    }
   ],
   "source": [
    "import json\n",
    "import os\n",
    "import tensorflow as  tf\n",
    "\n",
    "os.environ['TF_CONFIG'] = json.dumps({\n",
    "    'cluster': {\n",
    "        'worker': [\"10.0.1.121:8890\", \"10.0.1.104:8890\", \"10.0.1.46:8890\"]\n",
    "    },\n",
    "    'task': {'type': 'worker', 'index': 0}\n",
    "})\n",
    "\n",
    "strategy = tf.distribute.experimental.MultiWorkerMirroredStrategy()\n",
    "\n",
    "import tensorflow as  tf\n",
    "from tensorflow.keras.models import Sequential\n",
    "from tensorflow.keras.layers import Dense, Dropout, LSTM\n",
    "%load_ext tensorboard\n",
    "\n",
    "mnist = tf.keras.datasets.mnist\n",
    "\n",
    "(x_train, y_train), (x_test, y_test) = mnist.load_data()\n",
    "\n",
    "x_train = x_train / 255.0\n",
    "x_test = x_test / 255.0\n",
    "\n",
    "print(x_train[0].shape)\n",
    "\n",
    "def build_rnn():\n",
    "    model = Sequential()\n",
    "    \n",
    "    model.add(LSTM(128, input_shape=(x_train.shape[1:]), activation='relu'))\n",
    "    model.add(Dropout(0.2))\n",
    "\n",
    "    model.add(Dense(32, activation='relu'))\n",
    "    model.add(Dropout(0.2))\n",
    "\n",
    "    model.add(Dense(10, activation='softmax')) # activation must be softmax for categorical cross entropy loss\n",
    "    \n",
    "    opt = tf.keras.optimizers.Adam(lr=1e-3, decay=0)\n",
    "    \n",
    "    model.compile(loss='sparse_categorical_crossentropy', optimizer=opt,\n",
    "             metrics=['accuracy'])\n",
    "  \n",
    "    return model\n",
    "\n",
    "with strategy.scope():\n",
    "    net = build_rnn()"
   ]
  },
  {
   "cell_type": "code",
   "execution_count": 2,
   "metadata": {
    "scrolled": false
   },
   "outputs": [
    {
     "name": "stdout",
     "output_type": "stream",
     "text": [
      "INFO:tensorflow:Running Distribute Coordinator with mode = 'independent_worker', cluster_spec = {'worker': ['10.0.1.121:8890', '10.0.1.104:8890', '10.0.1.46:8890']}, task_type = 'worker', task_id = 0, environment = None, rpc_layer = 'grpc'\n",
      "WARNING:tensorflow:`eval_fn` is not passed in. The `worker_fn` will be used if an \"evaluator\" task exists in the cluster.\n",
      "WARNING:tensorflow:`eval_strategy` is not passed in. No distribution strategy will be used for evaluation.\n",
      "INFO:tensorflow:Using MirroredStrategy with devices ('/job:worker/task:0',)\n",
      "INFO:tensorflow:MultiWorkerMirroredStrategy with cluster_spec = {'worker': ['10.0.1.121:8890', '10.0.1.104:8890', '10.0.1.46:8890']}, task_type = 'worker', task_id = 0, num_workers = 3, local_devices = ('/job:worker/task:0',), communication = CollectiveCommunication.AUTO\n",
      "INFO:tensorflow:Using MirroredStrategy with devices ('/job:worker/task:0',)\n",
      "INFO:tensorflow:MultiWorkerMirroredStrategy with cluster_spec = {'worker': ['10.0.1.121:8890', '10.0.1.104:8890', '10.0.1.46:8890']}, task_type = 'worker', task_id = 0, num_workers = 3, local_devices = ('/job:worker/task:0',), communication = CollectiveCommunication.AUTO\n",
      "Epoch 1/3\n",
      "INFO:tensorflow:Collective batch_all_reduce: 7 all-reduces, num_workers = 3, communication_hint = AUTO, num_packs = 1\n",
      "INFO:tensorflow:Collective batch_all_reduce: 1 all-reduces, num_workers = 3, communication_hint = AUTO, num_packs = 1\n",
      "INFO:tensorflow:Collective batch_all_reduce: 1 all-reduces, num_workers = 3, communication_hint = AUTO, num_packs = 1\n",
      "INFO:tensorflow:Collective batch_all_reduce: 1 all-reduces, num_workers = 3, communication_hint = AUTO, num_packs = 1\n",
      "INFO:tensorflow:Collective batch_all_reduce: 1 all-reduces, num_workers = 3, communication_hint = AUTO, num_packs = 1\n",
      "INFO:tensorflow:Collective batch_all_reduce: 7 all-reduces, num_workers = 3, communication_hint = AUTO, num_packs = 1\n",
      "INFO:tensorflow:Collective batch_all_reduce: 1 all-reduces, num_workers = 3, communication_hint = AUTO, num_packs = 1\n",
      "INFO:tensorflow:Collective batch_all_reduce: 1 all-reduces, num_workers = 3, communication_hint = AUTO, num_packs = 1\n",
      "INFO:tensorflow:Collective batch_all_reduce: 1 all-reduces, num_workers = 3, communication_hint = AUTO, num_packs = 1\n",
      "INFO:tensorflow:Collective batch_all_reduce: 1 all-reduces, num_workers = 3, communication_hint = AUTO, num_packs = 1\n",
      "600/600 [==============================] - ETA: 0s - accuracy: 0.7432 - loss: 0.7810INFO:tensorflow:Collective batch_all_reduce: 1 all-reduces, num_workers = 3, communication_hint = AUTO, num_packs = 1\n",
      "INFO:tensorflow:Collective batch_all_reduce: 1 all-reduces, num_workers = 3, communication_hint = AUTO, num_packs = 1\n",
      "600/600 [==============================] - 29s 49ms/step - accuracy: 0.7432 - loss: 0.7810 - val_accuracy: 0.9304 - val_loss: 0.2339\n",
      "Epoch 2/3\n",
      "600/600 [==============================] - 29s 48ms/step - accuracy: 0.9372 - loss: 0.2202 - val_accuracy: 0.9627 - val_loss: 0.1307\n",
      "Epoch 3/3\n",
      "600/600 [==============================] - 30s 50ms/step - accuracy: 0.9578 - loss: 0.1501 - val_accuracy: 0.9710 - val_loss: 0.0993\n"
     ]
    }
   ],
   "source": [
    "with tf.profiler.experimental.Profile('logs/fit/my_rnn'):\n",
    "    net.fit(x_train, y_train, batch_size = 100,\n",
    "        epochs=3, validation_data=(x_test, y_test))\n",
    "    pass"
   ]
  },
  {
   "cell_type": "code",
   "execution_count": 3,
   "metadata": {},
   "outputs": [],
   "source": [
    "# %tensorboard --logdir logs_rnn/fit --port 6006 --bind_all"
   ]
  },
  {
   "cell_type": "code",
   "execution_count": 4,
   "metadata": {},
   "outputs": [],
   "source": [
    "# model.save('Minst_Lstm.model')"
   ]
  }
 ],
 "metadata": {
  "kernelspec": {
   "display_name": "Python 3",
   "language": "python",
   "name": "python3"
  },
  "language_info": {
   "codemirror_mode": {
    "name": "ipython",
    "version": 3
   },
   "file_extension": ".py",
   "mimetype": "text/x-python",
   "name": "python",
   "nbconvert_exporter": "python",
   "pygments_lexer": "ipython3",
   "version": "3.7.7"
  }
 },
 "nbformat": 4,
 "nbformat_minor": 4
}
