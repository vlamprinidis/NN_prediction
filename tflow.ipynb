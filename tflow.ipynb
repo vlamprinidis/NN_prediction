{
 "cells": [
  {
   "cell_type": "code",
   "execution_count": 1,
   "metadata": {},
   "outputs": [],
   "source": [
    "import lib\n",
    "import tflow\n",
    "import sys\n",
    "sys.path.append('../')"
   ]
  },
  {
   "cell_type": "code",
   "execution_count": null,
   "metadata": {},
   "outputs": [],
   "source": [
    "Reg = [None,None,None,None]"
   ]
  },
  {
   "cell_type": "code",
   "execution_count": null,
   "metadata": {},
   "outputs": [],
   "source": [
    "Reg[1] = lib.Reg_N('tflow',1)"
   ]
  },
  {
   "cell_type": "code",
   "execution_count": null,
   "metadata": {},
   "outputs": [],
   "source": [
    "Reg[2] = lib.Reg_N('tflow',2)"
   ]
  },
  {
   "cell_type": "code",
   "execution_count": null,
   "metadata": {},
   "outputs": [],
   "source": [
    "Reg[3] = lib.Reg_N('tflow',3)"
   ]
  },
  {
   "cell_type": "code",
   "execution_count": null,
   "metadata": {},
   "outputs": [],
   "source": [
    "def show(Model, reg, dim, batch, numf, channels, epochs, ds):\n",
    "    M = Model()\n",
    "    model = M.create()\n",
    "    layers = tflow.extract(model, dim, batch, numf, channels)\n",
    "    print('TensorFlow')\n",
    "    print(M.__class__.__name__)\n",
    "    print('Nodes: {}'.format(reg.nodes))\n",
    "    print('Dim: {}, Batch: {}, Numf: {}, Channels: {}'.format(dim, batch,numf,channels))\n",
    "    print('Epochs: {}, Dataset size: {}'.format(epochs, ds))\n",
    "    print('Time(sec):')\n",
    "    total = lib.predict(reg, layers, epochs, ds, batch)\n",
    "    print(total)\n",
    "    print()"
   ]
  },
  {
   "cell_type": "code",
   "execution_count": 2,
   "metadata": {},
   "outputs": [],
   "source": [
    "from execute.tflow_models import LeNet5 as Model"
   ]
  },
  {
   "cell_type": "code",
   "execution_count": null,
   "metadata": {},
   "outputs": [],
   "source": [
    "show(Model, Reg[1], dim=2, batch=512, numf=28, channels=1, epochs=5, ds=60000)"
   ]
  },
  {
   "cell_type": "code",
   "execution_count": null,
   "metadata": {},
   "outputs": [],
   "source": []
  }
 ],
 "metadata": {
  "kernelspec": {
   "display_name": "Python 3",
   "language": "python",
   "name": "python3"
  },
  "language_info": {
   "codemirror_mode": {
    "name": "ipython",
    "version": 3
   },
   "file_extension": ".py",
   "mimetype": "text/x-python",
   "name": "python",
   "nbconvert_exporter": "python",
   "pygments_lexer": "ipython3",
   "version": "3.6.9"
  }
 },
 "nbformat": 4,
 "nbformat_minor": 4
}
