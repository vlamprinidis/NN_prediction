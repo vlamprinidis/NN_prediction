{
 "cells": [
  {
   "cell_type": "code",
   "execution_count": 1,
   "metadata": {},
   "outputs": [],
   "source": [
    "import data_parser as dp\n",
    "import numpy as np\n",
    "import os"
   ]
  },
  {
   "cell_type": "code",
   "execution_count": 2,
   "metadata": {},
   "outputs": [],
   "source": [
    "names = [\n",
    "    'conv', \n",
    "    'avg',\n",
    "    'max',\n",
    "    'dense',\n",
    "    'norm',\n",
    "    'drop',\n",
    "    'relu',\n",
    "    'tanh'\n",
    "]\n",
    "\n",
    "names1d = list(map(lambda x: x + '1d.tflow', names))\n",
    "names2d = list(map(lambda x: x + '2d.tflow', names))\n",
    "\n",
    "source_dir = ['profiling_results', 'vms_1']\n",
    "the_dir = ['intermediate_results', 'tflow']"
   ]
  },
  {
   "cell_type": "code",
   "execution_count": 3,
   "metadata": {},
   "outputs": [
    {
     "name": "stdout",
     "output_type": "stream",
     "text": [
      "conv1d.tflow\n",
      "avg1d.tflow\n",
      "max1d.tflow\n",
      "dense1d.tflow\n",
      "norm1d.tflow\n",
      "drop1d.tflow\n",
      "relu1d.tflow\n",
      "tanh1d.tflow\n",
      "conv2d.tflow\n",
      "avg2d.tflow\n",
      "max2d.tflow\n",
      "dense2d.tflow\n",
      "norm2d.tflow\n",
      "drop2d.tflow\n",
      "relu2d.tflow\n",
      "tanh2d.tflow\n"
     ]
    }
   ],
   "source": [
    "# Preprocess 1\n",
    "#remove idle from every single file, and rename files\n",
    "def no_idle(df):\n",
    "    df = df[df['Operation']!='IDLE']\n",
    "    \n",
    "    return df\n",
    "\n",
    "for name in names1d+names2d:\n",
    "    dct = dp.load(os.path.join(*source_dir, '__'+name))\n",
    "    print(name)\n",
    "    \n",
    "    new_dct = {}\n",
    "    for key,value in dct.items():\n",
    "        new_dct[key] = no_idle(value)\n",
    "\n",
    "    dp._save(new_dct, os.path.join(*the_dir, name))"
   ]
  },
  {
   "cell_type": "code",
   "execution_count": 4,
   "metadata": {},
   "outputs": [],
   "source": [
    "# Preprocess 2\n",
    "# dense layers dont depend on 'channels' or 'dim', but only on the number of features\n",
    "\n",
    "# dense1d, dense2d -> dense\n",
    "dictionary_ls = [dp.load(os.path.join(*the_dir, 'dense1d.tflow')), \n",
    "                 dp.load(os.path.join(*the_dir, 'dense2d.tflow'))]\n",
    "\n",
    "updated_dictionary = {}\n",
    "\n",
    "for dim, dictionary in enumerate(dictionary_ls,1):\n",
    "    for fz_key, value in dictionary.items():\n",
    "        dct_key = dp.from_key(fz_key)\n",
    "        \n",
    "        new_fz_key = dp.my_key({\n",
    "            'batch':dct_key['batch'],\n",
    "            'nodes':dct_key['nodes'],\n",
    "            'units':dct_key['units'],\n",
    "            'channels':dct_key['channels'],\n",
    "            'numf':(dct_key['numf']**dim),\n",
    "            'old_numf':dct_key['numf'],\n",
    "            'old_dim':dim\n",
    "        })\n",
    "        \n",
    "        updated_dictionary[new_fz_key] = value\n",
    "\n",
    "dp._save(updated_dictionary, os.path.join(*the_dir, 'dense.tflow'))"
   ]
  },
  {
   "cell_type": "code",
   "execution_count": 5,
   "metadata": {},
   "outputs": [],
   "source": [
    "tf_map = {\n",
    "    'conv1d': ['CONV1D'],\n",
    "    \n",
    "    'conv2d':['CONV2D'],\n",
    "    \n",
    "    'avg1d': ['AVG1D'],\n",
    "    \n",
    "    'avg2d': ['AVG2D'],\n",
    "    \n",
    "    'max1d': ['MAX1D'],\n",
    "    \n",
    "    'max2d': ['MAX2D'],\n",
    "    \n",
    "    'dense': ['DENSE1D', 'DENSE2D'],\n",
    "    \n",
    "    'norm1d': ['NORM1D'],\n",
    "    \n",
    "    'norm2d': ['NORM2D'],\n",
    "    \n",
    "    'drop1d': ['DROP1D'],\n",
    "    \n",
    "    'drop2d': ['DROP2D'],\n",
    "    \n",
    "    'relu1d': ['RELU1D'],\n",
    "    \n",
    "    'relu2d': ['RELU2D'],\n",
    "    \n",
    "    'tanh1d': ['TANH1D'],\n",
    "    \n",
    "    'tanh2d': ['TANH2D']\n",
    "}\n",
    "\n",
    "def total_on(df, words, column='Operation'):\n",
    "    mask = df[column].apply(dp.check(words))\n",
    "    return df[mask]['Total self-time (us)'].sum()"
   ]
  },
  {
   "cell_type": "code",
   "execution_count": 6,
   "metadata": {},
   "outputs": [],
   "source": [
    "target_dir = ['database', 'tflow']"
   ]
  },
  {
   "cell_type": "code",
   "execution_count": 7,
   "metadata": {},
   "outputs": [
    {
     "name": "stdout",
     "output_type": "stream",
     "text": [
      "conv1d\n",
      "conv2d\n",
      "avg1d\n",
      "avg2d\n",
      "max1d\n",
      "max2d\n",
      "dense\n",
      "norm1d\n",
      "norm2d\n",
      "drop1d\n",
      "drop2d\n",
      "relu1d\n",
      "relu2d\n",
      "tanh1d\n",
      "tanh2d\n"
     ]
    }
   ],
   "source": [
    "# Part 1 - Database\n",
    "for name, ops in tf_map.items():\n",
    "    dct = dp.load(os.path.join(*the_dir, name + '.tflow'))\n",
    "    print(name)\n",
    "    \n",
    "    tf_db = {}\n",
    "    for key, value in dct.items():\n",
    "        batch = dp.from_key(key)['batch']\n",
    "        dataset_size = 1024\n",
    "        steps_per_epoch = dataset_size//batch\n",
    "        epochs = 5\n",
    "        steps = epochs*steps_per_epoch\n",
    "#         steps = 1\n",
    "        \n",
    "        tf_db[key] = total_on(value, ops)/steps\n",
    "        \n",
    "    dp._save(tf_db, os.path.join(*target_dir, name + '.tflow_db'))"
   ]
  },
  {
   "cell_type": "code",
   "execution_count": null,
   "metadata": {},
   "outputs": [],
   "source": []
  },
  {
   "cell_type": "code",
   "execution_count": null,
   "metadata": {},
   "outputs": [],
   "source": [
    "# Part 2 - Dataset DB\n",
    "def create_db(files):\n",
    "    db = {}\n",
    "    for file in files:\n",
    "        dct = dp.load(os.path.join(*the_dir, file))\n",
    "        print(file)\n",
    "\n",
    "        for fz_key, value in dct.items():\n",
    "            key = dp.from_key(fz_key)\n",
    "\n",
    "            batch = key['batch']\n",
    "            dataset_size = 1024\n",
    "            steps_per_epoch = dataset_size//batch\n",
    "            epochs = 5\n",
    "            steps = epochs*steps_per_epoch\n",
    "#             steps = 1\n",
    "\n",
    "            key['file'] = file\n",
    "            db[dp.my_key(key)] = total_on(value, ['Dataset'], 'Type')/steps\n",
    "    \n",
    "    return db\n",
    "\n",
    "ds_1d = create_db(names1d)\n",
    "ds_2d = create_db(names2d)\n",
    "\n",
    "dp._save(ds_1d, os.path.join(*target_dir, 'dataset1d.tflow_db'))\n",
    "dp._save(ds_2d, os.path.join(*target_dir, 'dataset2d.tflow_db'))"
   ]
  },
  {
   "cell_type": "markdown",
   "metadata": {},
   "source": [
    "# No flatten ops weren't recorded, so don't create a predictor"
   ]
  },
  {
   "cell_type": "code",
   "execution_count": null,
   "metadata": {},
   "outputs": [],
   "source": []
  }
 ],
 "metadata": {
  "kernelspec": {
   "display_name": "Python 3",
   "language": "python",
   "name": "python3"
  },
  "language_info": {
   "codemirror_mode": {
    "name": "ipython",
    "version": 3
   },
   "file_extension": ".py",
   "mimetype": "text/x-python",
   "name": "python",
   "nbconvert_exporter": "python",
   "pygments_lexer": "ipython3",
   "version": "3.6.9"
  }
 },
 "nbformat": 4,
 "nbformat_minor": 4
}
