{
 "cells": [
  {
   "cell_type": "code",
   "execution_count": 1,
   "metadata": {},
   "outputs": [],
   "source": [
    "import data_parser as dp\n",
    "import numpy as np"
   ]
  },
  {
   "cell_type": "code",
   "execution_count": 10,
   "metadata": {},
   "outputs": [],
   "source": [
    "from sklearn import model_selection\n",
    "from sklearn.ensemble import RandomForestRegressor\n",
    "from sklearn.metrics import r2_score\n",
    "from sklearn.model_selection import train_test_split\n",
    "from sklearn.metrics import mean_squared_error\n",
    "from math import sqrt"
   ]
  },
  {
   "cell_type": "code",
   "execution_count": 2,
   "metadata": {},
   "outputs": [],
   "source": [
    "layers = [\n",
    "    'conv1d', \n",
    "    'conv2d', \n",
    "    \n",
    "    'avg1d', \n",
    "    'avg2d', \n",
    "    \n",
    "    'max1d', \n",
    "    'max2d', \n",
    "    \n",
    "    'dense', \n",
    "    \n",
    "    'norm1d', \n",
    "    'norm2d', \n",
    "    \n",
    "    'relu1d', \n",
    "    'relu2d',\n",
    "    \n",
    "    'drop1d', \n",
    "    'drop2d',\n",
    "    \n",
    "    'tanh1d', \n",
    "    'tanh2d'\n",
    "]"
   ]
  },
  {
   "cell_type": "code",
   "execution_count": 3,
   "metadata": {},
   "outputs": [],
   "source": [
    "params = ['numf', 'channels', 'batch', 'nodes', 'kernel', 'stride', 'filters'] "
   ]
  },
  {
   "cell_type": "code",
   "execution_count": 4,
   "metadata": {},
   "outputs": [],
   "source": [
    "def in_order(key, words):\n",
    "    return [key[word] for word in words]"
   ]
  },
  {
   "cell_type": "code",
   "execution_count": 5,
   "metadata": {},
   "outputs": [],
   "source": [
    "def open_layer(name, params):\n",
    "    dct = dp.load('database/tflow/{}.tflow_db'.format(name))\n",
    "    \n",
    "    x = []\n",
    "    y = []\n",
    "    for key,value in dct.items():\n",
    "        x.append(in_order(dp.from_key(key),params))\n",
    "        y.append(value)\n",
    "    \n",
    "    return np.array(x), np.array(y)"
   ]
  },
  {
   "cell_type": "code",
   "execution_count": null,
   "metadata": {},
   "outputs": [],
   "source": [
    "param_map = {\n",
    "    'conv1d':['numf', 'channels', 'batch', 'nodes', 'kernel', 'stride', 'filters'] , \n",
    "    'conv2d':['numf', 'channels', 'batch', 'nodes', 'kernel', 'stride', 'filters'] , \n",
    "    \n",
    "    'avg1d':, \n",
    "    'avg2d':, \n",
    "    \n",
    "    'max1d':, \n",
    "    'max2d':, \n",
    "    \n",
    "    'dense':, \n",
    "    \n",
    "    'norm1d':, \n",
    "    'norm2d':, \n",
    "    \n",
    "    'relu1d':, \n",
    "    'relu2d':,\n",
    "    \n",
    "    'drop1d':, \n",
    "    'drop2d':,\n",
    "    \n",
    "    'tanh1d':, \n",
    "    'tanh2d':\n",
    "}\n",
    "    "
   ]
  },
  {
   "cell_type": "code",
   "execution_count": 7,
   "metadata": {},
   "outputs": [],
   "source": [
    "x,y=open_layer('conv2d',params)"
   ]
  },
  {
   "cell_type": "code",
   "execution_count": 29,
   "metadata": {},
   "outputs": [],
   "source": [
    "def the_train(x, y):\n",
    "    model = RandomForestRegressor()\n",
    "    x_train, x_test, y_train, y_test = train_test_split(x, y, test_size=0.2)\n",
    "    model.fit(x_train, y_train)\n",
    "    print('Model: {}'.format(model))\n",
    "    \n",
    "    r2 = model.score(x_test, y_test)\n",
    "    print('R^2 Score: {}'.format(r2))\n",
    "    \n",
    "    y_true = y\n",
    "    y_pred = model.predict(x)\n",
    "    rmse = sqrt(mean_squared_error(y_true, y_pred))\n",
    "    print('Root Mean Squared Error: {} ms'.format(rmse/1000))\n",
    "    \n",
    "    print()\n",
    "    \n",
    "    return model"
   ]
  },
  {
   "cell_type": "code",
   "execution_count": 30,
   "metadata": {
    "scrolled": false
   },
   "outputs": [
    {
     "name": "stdout",
     "output_type": "stream",
     "text": [
      "Model: RandomForestRegressor()\n",
      "R^2 Score: 0.9994193378723636\n",
      "Root Mean Squared Error: 7.098796854552961 ms\n",
      "\n"
     ]
    }
   ],
   "source": [
    "model = the_train(x,y)"
   ]
  },
  {
   "cell_type": "code",
   "execution_count": null,
   "metadata": {},
   "outputs": [],
   "source": []
  }
 ],
 "metadata": {
  "kernelspec": {
   "display_name": "Python 3",
   "language": "python",
   "name": "python3"
  },
  "language_info": {
   "codemirror_mode": {
    "name": "ipython",
    "version": 3
   },
   "file_extension": ".py",
   "mimetype": "text/x-python",
   "name": "python",
   "nbconvert_exporter": "python",
   "pygments_lexer": "ipython3",
   "version": "3.6.9"
  }
 },
 "nbformat": 4,
 "nbformat_minor": 4
}
