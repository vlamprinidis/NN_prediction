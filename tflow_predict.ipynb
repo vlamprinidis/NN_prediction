{
 "cells": [
  {
   "cell_type": "code",
   "execution_count": null,
   "metadata": {},
   "outputs": [],
   "source": [
    "import data_parser as dp\n",
    "import numpy as np"
   ]
  },
  {
   "cell_type": "code",
   "execution_count": null,
   "metadata": {},
   "outputs": [],
   "source": [
    "from sklearn import model_selection\n",
    "from sklearn.ensemble import RandomForestRegressor\n",
    "from sklearn.metrics import r2_score\n",
    "from sklearn.model_selection import train_test_split\n",
    "from sklearn.metrics import mean_squared_error\n",
    "from math import sqrt"
   ]
  },
  {
   "cell_type": "code",
   "execution_count": null,
   "metadata": {},
   "outputs": [],
   "source": [
    "layers = [\n",
    "    'conv1d', \n",
    "    'conv2d', \n",
    "    \n",
    "    'avg1d', \n",
    "    'avg2d', \n",
    "    \n",
    "    'max1d', \n",
    "    'max2d', \n",
    "    \n",
    "    'dense', \n",
    "    \n",
    "    'norm1d', \n",
    "    'norm2d', \n",
    "    \n",
    "    'relu1d', \n",
    "    'relu2d',\n",
    "    \n",
    "    'drop1d', \n",
    "    'drop2d',\n",
    "    \n",
    "    'tanh1d', \n",
    "    'tanh2d'\n",
    "]"
   ]
  },
  {
   "cell_type": "code",
   "execution_count": null,
   "metadata": {},
   "outputs": [],
   "source": [
    "params = ['numf', 'channels', 'batch', 'nodes', 'kernel', 'stride', 'filters'] "
   ]
  },
  {
   "cell_type": "code",
   "execution_count": null,
   "metadata": {},
   "outputs": [],
   "source": [
    "def in_order(key, words):\n",
    "    return [key[word] for word in words]"
   ]
  },
  {
   "cell_type": "code",
   "execution_count": null,
   "metadata": {},
   "outputs": [],
   "source": [
    "def open_layer(name, params):\n",
    "    dct = dp.load('database/tflow/{}.tflow_db'.format(name))\n",
    "    \n",
    "    x = []\n",
    "    y = []\n",
    "    for key,value in dct.items():\n",
    "        x.append(in_order(dp.from_key(key),params))\n",
    "        y.append(value)\n",
    "    \n",
    "    return np.array(x), np.array(y)"
   ]
  },
  {
   "cell_type": "code",
   "execution_count": null,
   "metadata": {},
   "outputs": [],
   "source": [
    "param_map = {\n",
    "    'conv1d':['numf', 'channels', 'batch', 'nodes', 'kernel', 'stride', 'filters'] , \n",
    "    'conv2d':['numf', 'channels', 'batch', 'nodes', 'kernel', 'stride', 'filters'] , \n",
    "    \n",
    "    'avg1d':, \n",
    "    'avg2d':, \n",
    "    \n",
    "    'max1d':, \n",
    "    'max2d':, \n",
    "    \n",
    "    'dense':, \n",
    "    \n",
    "    'norm1d':, \n",
    "    'norm2d':, \n",
    "    \n",
    "    'relu1d':, \n",
    "    'relu2d':,\n",
    "    \n",
    "    'drop1d':, \n",
    "    'drop2d':,\n",
    "    \n",
    "    'tanh1d':, \n",
    "    'tanh2d':\n",
    "}\n",
    "    "
   ]
  },
  {
   "cell_type": "code",
   "execution_count": null,
   "metadata": {},
   "outputs": [],
   "source": [
    "def give_train_data(df, layer):\n",
    "    df_ = df[mask].drop(columns='model_str')\n",
    "    \n",
    "    return df_.drop(columns='total_ms').to_numpy(), df_.total_ms.to_numpy()"
   ]
  },
  {
   "cell_type": "code",
   "execution_count": null,
   "metadata": {},
   "outputs": [],
   "source": [
    "def the_train(df, model, layer):\n",
    "    x,y = give_train_data(df, layer)\n",
    "    x_train, x_test, y_train, y_test = train_test_split(x, y, test_size=0.2)\n",
    "    model.fit(x_train, y_train)\n",
    "    score = model.score(x_test, y_test)\n",
    "    print('Model: {}, Layer: {}, Score: {}'.format(model, layer, score))\n",
    "    print()\n",
    "    \n",
    "    return model"
   ]
  }
 ],
 "metadata": {
  "kernelspec": {
   "display_name": "Python 3",
   "language": "python",
   "name": "python3"
  },
  "language_info": {
   "codemirror_mode": {
    "name": "ipython",
    "version": 3
   },
   "file_extension": ".py",
   "mimetype": "text/x-python",
   "name": "python",
   "nbconvert_exporter": "python",
   "pygments_lexer": "ipython3",
   "version": "3.6.9"
  }
 },
 "nbformat": 4,
 "nbformat_minor": 4
}
