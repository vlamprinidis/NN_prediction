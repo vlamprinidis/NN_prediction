{
 "cells": [
  {
   "cell_type": "code",
   "execution_count": null,
   "metadata": {},
   "outputs": [],
   "source": [
    "# !pip uninstall -y -q tensorflow tensorboard\n",
    "# !pip uninstall -y -q tensorflow tensorboard\n",
    "# !pip install -q -U -q tf-nightly tb-nightly tensorboard_plugin_profile"
   ]
  },
  {
   "cell_type": "code",
   "execution_count": null,
   "metadata": {},
   "outputs": [],
   "source": [
    "# !pip uninstall tensorflow\n",
    "\n",
    "# !pip install tensorflow --ignore-installed"
   ]
  },
  {
   "cell_type": "code",
   "execution_count": null,
   "metadata": {},
   "outputs": [],
   "source": [
    "NODES = 1\n",
    "RANK = 0\n",
    "EPOCHS = 1\n",
    "BATCH = 64"
   ]
  },
  {
   "cell_type": "code",
   "execution_count": null,
   "metadata": {},
   "outputs": [],
   "source": [
    "%load_ext tensorboard\n",
    "import tensorflow as  tf\n",
    "from tensorflow.keras.models import Sequential\n",
    "from tensorflow.keras.layers import Dense, Conv2D, AveragePooling2D, Flatten\n",
    "from tensorflow import keras"
   ]
  },
  {
   "cell_type": "code",
   "execution_count": null,
   "metadata": {},
   "outputs": [],
   "source": [
    "mnist = tf.keras.datasets.mnist\n",
    "\n",
    "(x_train, y_train), (x_test, y_test) = mnist.load_data()\n",
    "\n",
    "rows, cols = 28, 28\n",
    " \n",
    "x_train = x_train.reshape(x_train.shape[0], rows, cols, 1)\n",
    "x_test = x_test.reshape(x_test.shape[0], rows, cols, 1)\n",
    "\n",
    "input_shape = (rows, cols, 1)\n",
    "\n",
    "x_train = x_train.astype('float32')\n",
    "x_test = x_test.astype('float32')\n",
    "\n",
    "# one-hot encode the labels\n",
    "y_train = tf.keras.utils.to_categorical(y_train, 10)\n",
    "y_test = tf.keras.utils.to_categorical(y_test, 10)\n",
    "\n",
    "def build_cnn():\n",
    "    \n",
    "    CONV_KERNEL = 5\n",
    "    CONV_STRIDE = 1\n",
    "\n",
    "    AVG_KERNEL = 2\n",
    "    AVG_STRIDE = 2\n",
    "        \n",
    "    model = Sequential()\n",
    "    \n",
    "    model.add(\n",
    "        Conv2D(filters=6, \n",
    "               kernel_size=(CONV_KERNEL, CONV_KERNEL), \n",
    "               strides=(CONV_STRIDE, CONV_STRIDE),\n",
    "               input_shape = input_shape,\n",
    "               activation='tanh')\n",
    "    )\n",
    "    \n",
    "    model.add(\n",
    "        AveragePooling2D(pool_size=(2, 2), \n",
    "                         strides=(2, 2))\n",
    "    )\n",
    "    \n",
    "    model.add(\n",
    "        Conv2D(filters=16, \n",
    "               kernel_size=(CONV_KERNEL, CONV_KERNEL), \n",
    "               strides=(CONV_STRIDE, CONV_STRIDE), \n",
    "               activation='tanh')\n",
    "    )\n",
    "    \n",
    "    model.add(\n",
    "        AveragePooling2D(pool_size=(AVG_KERNEL, AVG_KERNEL), \n",
    "                         strides=(AVG_STRIDE, AVG_STRIDE))\n",
    "    )\n",
    "    \n",
    "    model.add(Flatten())\n",
    "    \n",
    "    model.add(\n",
    "        Dense(units = 120, activation='tanh')\n",
    "    )\n",
    "    \n",
    "    model.add(Flatten())\n",
    "    \n",
    "    model.add(\n",
    "        Dense(units = 84, activation='tanh')\n",
    "    )\n",
    "    \n",
    "    model.add(\n",
    "        Dense(units = 10, activation='softmax')\n",
    "    )\n",
    "    \n",
    "    opt = tf.keras.optimizers.SGD(lr=0.1, momentum=0.0, decay=0.0)\n",
    "    \n",
    "    model.compile(loss='categorical_crossentropy', optimizer=opt,\n",
    "             metrics=['accuracy'])\n",
    "  \n",
    "    return model\n"
   ]
  },
  {
   "cell_type": "code",
   "execution_count": null,
   "metadata": {},
   "outputs": [],
   "source": [
    "if NODES > 1:\n",
    "    workers = []\n",
    "    if NODES == 2:\n",
    "        workers = [\"10.0.1.121:8890\", \"10.0.1.104:8890\"]\n",
    "    else:\n",
    "        workers = [\"10.0.1.121:8890\", \"10.0.1.104:8890\", \"10.0.1.46:8890\"]\n",
    "    import json\n",
    "    import os\n",
    "    os.environ['TF_CONFIG'] = json.dumps({\n",
    "        'cluster': {\n",
    "            'worker': workers\n",
    "        },\n",
    "        'task': {'type': 'worker', 'index': RANK}\n",
    "    })\n",
    "    strategy = tf.distribute.experimental.MultiWorkerMirroredStrategy()\n",
    "    with strategy.scope():\n",
    "        net = build_cnn()\n",
    "else:\n",
    "    net = build_cnn()"
   ]
  },
  {
   "cell_type": "code",
   "execution_count": null,
   "metadata": {},
   "outputs": [],
   "source": [
    "logdir = 'logs/tf_cnn_{}batch_node{}of{}_4CPUs'.format(BATCH,RANK,NODES)\n",
    "tensorboard_callback = keras.callbacks.TensorBoard(log_dir=logdir, write_graph=True,update_freq='batch',\n",
    "                                                  profile_batch=(1,60000//BATCH))"
   ]
  },
  {
   "cell_type": "code",
   "execution_count": null,
   "metadata": {},
   "outputs": [],
   "source": [
    "net.fit(x_train, y_train, batch_size = BATCH,\n",
    "            epochs=EPOCHS, validation_data=(x_test, y_test),\n",
    "            callbacks=[tensorboard_callback])"
   ]
  },
  {
   "cell_type": "code",
   "execution_count": null,
   "metadata": {},
   "outputs": [],
   "source": [
    "print(\"TensorFlow version: \", tf.__version__)"
   ]
  },
  {
   "cell_type": "code",
   "execution_count": null,
   "metadata": {
    "scrolled": false
   },
   "outputs": [],
   "source": [
    "# %tensorboard --logdir logs --port 6006 --bind_all"
   ]
  }
 ],
 "metadata": {
  "kernelspec": {
   "display_name": "Python 3",
   "language": "python",
   "name": "python3"
  },
  "language_info": {
   "codemirror_mode": {
    "name": "ipython",
    "version": 3
   },
   "file_extension": ".py",
   "mimetype": "text/x-python",
   "name": "python",
   "nbconvert_exporter": "python",
   "pygments_lexer": "ipython3",
   "version": "3.5.2"
  }
 },
 "nbformat": 4,
 "nbformat_minor": 4
}
