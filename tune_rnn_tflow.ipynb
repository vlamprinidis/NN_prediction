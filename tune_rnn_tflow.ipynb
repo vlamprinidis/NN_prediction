{
 "cells": [
  {
   "cell_type": "code",
   "execution_count": 1,
   "metadata": {},
   "outputs": [],
   "source": [
    "NODES = 1\n",
    "RANK = 0\n",
    "EPOCHS = 10\n",
    "BATCH = 64"
   ]
  },
  {
   "cell_type": "code",
   "execution_count": 2,
   "metadata": {},
   "outputs": [],
   "source": [
    "import tensorflow as  tf\n",
    "from tensorflow.keras.models import Sequential\n",
    "from tensorflow.keras.layers import Dense, Dropout, LSTM\n",
    "from tensorflow import keras\n",
    "%load_ext tensorboard"
   ]
  },
  {
   "cell_type": "code",
   "execution_count": 3,
   "metadata": {},
   "outputs": [],
   "source": [
    "mnist = tf.keras.datasets.mnist\n",
    "\n",
    "(x_train, y_train), (x_test, y_test) = mnist.load_data()\n",
    "\n",
    "x_train = x_train / 255.0\n",
    "x_test = x_test / 255.0\n",
    "\n",
    "# print(x_train[0].shape)\n",
    "\n",
    "def build_rnn():\n",
    "    model = Sequential()\n",
    "    \n",
    "    model.add(LSTM(128, input_shape=(x_train.shape[1:]), activation='relu'))\n",
    "    model.add(Dropout(0.2))\n",
    "\n",
    "    model.add(Dense(32, activation='relu'))\n",
    "    model.add(Dropout(0.2))\n",
    "\n",
    "    model.add(Dense(10, activation='softmax')) # activation must be softmax for categorical cross entropy loss\n",
    "    \n",
    "    opt = tf.keras.optimizers.Adam(lr=1e-3, decay=0)\n",
    "    \n",
    "    model.compile(loss='sparse_categorical_crossentropy', optimizer=opt,\n",
    "             metrics=['accuracy'])\n",
    "  \n",
    "    return model"
   ]
  },
  {
   "cell_type": "code",
   "execution_count": 4,
   "metadata": {},
   "outputs": [],
   "source": [
    "if NODES > 1:\n",
    "    workers = []\n",
    "    if NODES == 2:\n",
    "        workers = [\"10.0.1.121:8890\", \"10.0.1.104:8890\"]\n",
    "    else:\n",
    "        workers = [\"10.0.1.121:8890\", \"10.0.1.104:8890\", \"10.0.1.46:8890\"]\n",
    "    import json\n",
    "    import os\n",
    "    os.environ['TF_CONFIG'] = json.dumps({\n",
    "        'cluster': {\n",
    "            'worker': workers\n",
    "        },\n",
    "        'task': {'type': 'worker', 'index': RANK}\n",
    "    })\n",
    "    strategy = tf.distribute.experimental.MultiWorkerMirroredStrategy()\n",
    "    with strategy.scope():\n",
    "        net = build_cnn()\n",
    "else:\n",
    "    net = build_rnn()"
   ]
  },
  {
   "cell_type": "code",
   "execution_count": 5,
   "metadata": {},
   "outputs": [],
   "source": [
    "logdir = 'logs/tf_RNN_{}batch_node{}of{}_4CPUs'.format(BATCH,RANK+1,NODES)\n",
    "!rm -rf {logdir}\n",
    "tensorboard_callback = keras.callbacks.TensorBoard(log_dir=logdir, write_graph=True,update_freq='batch',\n",
    "                                                  profile_batch=(1,60000//BATCH))"
   ]
  },
  {
   "cell_type": "code",
   "execution_count": 6,
   "metadata": {},
   "outputs": [
    {
     "name": "stdout",
     "output_type": "stream",
     "text": [
      "Epoch 1/10\n",
      "936/938 [============================>.] - ETA: 0s - accuracy: 0.7524 - loss: 0.7578WARNING:tensorflow:From /home/ubuntu/night/lib/python3.5/site-packages/tensorflow/python/ops/summary_ops_v2.py:1271: stop (from tensorflow.python.eager.profiler) is deprecated and will be removed after 2020-07-01.\n",
      "Instructions for updating:\n",
      "use `tf.profiler.experimental.stop` instead.\n",
      "938/938 [==============================] - 52s 56ms/step - accuracy: 0.7526 - loss: 0.7569 - val_accuracy: 0.9454 - val_loss: 0.1848\n",
      "Epoch 2/10\n",
      "938/938 [==============================] - 24s 25ms/step - accuracy: 0.9455 - loss: 0.1993 - val_accuracy: 0.9625 - val_loss: 0.1352\n",
      "Epoch 3/10\n",
      "938/938 [==============================] - 25s 26ms/step - accuracy: 0.9638 - loss: 0.1292 - val_accuracy: 0.9673 - val_loss: 0.1116\n",
      "Epoch 4/10\n",
      "938/938 [==============================] - 26s 28ms/step - accuracy: 0.9714 - loss: 0.1055 - val_accuracy: 0.9787 - val_loss: 0.0787\n",
      "Epoch 5/10\n",
      "938/938 [==============================] - 25s 26ms/step - accuracy: 0.9739 - loss: 0.0954 - val_accuracy: 0.9771 - val_loss: 0.0777\n",
      "Epoch 6/10\n",
      "938/938 [==============================] - 25s 27ms/step - accuracy: 0.9793 - loss: 0.0788 - val_accuracy: 0.9826 - val_loss: 0.0616\n",
      "Epoch 7/10\n",
      "938/938 [==============================] - 26s 28ms/step - accuracy: 0.9812 - loss: 0.0687 - val_accuracy: 0.9760 - val_loss: 0.0898\n",
      "Epoch 8/10\n",
      "938/938 [==============================] - 23s 25ms/step - accuracy: 0.9829 - loss: 0.0615 - val_accuracy: 0.9840 - val_loss: 0.0574\n",
      "Epoch 9/10\n",
      "938/938 [==============================] - 24s 26ms/step - accuracy: 0.9856 - loss: 0.0539 - val_accuracy: 0.9841 - val_loss: 0.0627\n",
      "Epoch 10/10\n",
      "938/938 [==============================] - 27s 28ms/step - accuracy: 0.9865 - loss: 0.0483 - val_accuracy: 0.9855 - val_loss: 0.0532\n"
     ]
    },
    {
     "data": {
      "text/plain": [
       "<tensorflow.python.keras.callbacks.History at 0x7f3874eb10f0>"
      ]
     },
     "execution_count": 6,
     "metadata": {},
     "output_type": "execute_result"
    }
   ],
   "source": [
    "net.fit(x_train, y_train, batch_size = BATCH,\n",
    "            epochs=EPOCHS, validation_data=(x_test, y_test),\n",
    "            callbacks=[tensorboard_callback])"
   ]
  },
  {
   "cell_type": "code",
   "execution_count": 7,
   "metadata": {},
   "outputs": [],
   "source": [
    "# %tensorboard --logdir logs --port 6006 --bind_all"
   ]
  },
  {
   "cell_type": "code",
   "execution_count": 8,
   "metadata": {},
   "outputs": [],
   "source": [
    "# model.save('Minst_Lstm.model')"
   ]
  }
 ],
 "metadata": {
  "kernelspec": {
   "display_name": "Python 3",
   "language": "python",
   "name": "python3"
  },
  "language_info": {
   "codemirror_mode": {
    "name": "ipython",
    "version": 3
   },
   "file_extension": ".py",
   "mimetype": "text/x-python",
   "name": "python",
   "nbconvert_exporter": "python",
   "pygments_lexer": "ipython3",
   "version": "3.5.2"
  }
 },
 "nbformat": 4,
 "nbformat_minor": 4
}
